{
 "cells": [
  {
   "attachments": {},
   "cell_type": "markdown",
   "metadata": {},
   "source": [
    "# **<< Early model development : 초기 모델 작성 >>**"
   ]
  },
  {
   "attachments": {},
   "cell_type": "markdown",
   "metadata": {},
   "source": [
    "# **1. 모듈 호출**"
   ]
  },
  {
   "cell_type": "code",
   "execution_count": 191,
   "metadata": {},
   "outputs": [],
   "source": [
    "import pandas as pd \n",
    "import numpy as np\n",
    "import matplotlib.pyplot as plt \n",
    "import seaborn as sns\n",
    "\n",
    "# 1. 데이터(학습/평가) 분리\n",
    "from sklearn.model_selection import train_test_split\n",
    "\n",
    "\n",
    "# 2. 피처 엔지니어링\n",
    "# 오버샘플링 --> 타겟 데이터 불균형 해결을 위한\n",
    "from imblearn.over_sampling import SMOTE   # imblearn 의 pipline을 써야함. (사이킷런의 pipline을 쓰면 잘못된 것.)\n",
    "from imblearn.pipeline import Pipeline as imbpipeline\n",
    "from sklearn.preprocessing import MinMaxScaler\n",
    "from sklearn.model_selection import GridSearchCV, StratifiedKFold\n",
    "# 정규화 --> 연속형 피처 불균형 해결을 위한\n",
    "from sklearn.preprocessing import StandardScaler\n",
    "from sklearn.preprocessing import MinMaxScaler\n",
    "# # 범주형 변수 원핫인코딩\n",
    "# from sklearn.preprocessing import OneHotEncoder\n",
    "\n",
    "\n",
    "# 3. (분류) 학습 모델\n",
    "from sklearn.linear_model import LogisticRegression\n",
    "from sklearn.tree import DecisionTreeClassifier\n",
    "from sklearn.ensemble import RandomForestClassifier\n",
    "from xgboost import XGBClassifier\n",
    "from lightgbm import LGBMClassifier\n",
    "\n",
    "\n",
    "# 4. 학습 검정 모델\n",
    "# from sklearn.model_selection import cross_val_score\n",
    "from sklearn.model_selection import cross_validate\n",
    "\n",
    "# 5. (분류) 평가 모델\n",
    "from sklearn.metrics import confusion_matrix, accuracy_score, precision_score, recall_score, f1_score, roc_auc_score\n",
    "\n",
    "import warnings\n",
    "warnings.filterwarnings('ignore')"
   ]
  },
  {
   "attachments": {},
   "cell_type": "markdown",
   "metadata": {},
   "source": [
    "# **2. 함수 만들기**"
   ]
  },
  {
   "attachments": {},
   "cell_type": "markdown",
   "metadata": {},
   "source": [
    "### **1) 분류 모델의 성능 검정**"
   ]
  },
  {
   "cell_type": "code",
   "execution_count": 192,
   "metadata": {},
   "outputs": [],
   "source": [
    "def cross_model_validation (model, X, y, X_val, y_val) :\n",
    "    \"\"\"\n",
    "    선정한 모델과 학습 피처, 학습 타겟값을 인자받아 \n",
    "    cross_val_score를 활용한 모델 검증 함수.\n",
    "    \"\"\"\n",
    "    \n",
    "    # K-Fold Cross Validation\n",
    "    cross_val_scores = cross_validate(model, X=X, y=y, cv=5, scoring=['accuracy', 'precision', 'recall', 'f1', 'roc_auc'])\n",
    "\n",
    "    model.fit(X, y)\n",
    "    pred = model.predict(X_val)\n",
    "\n",
    "    # 점수 \n",
    "    accuracy_scores = cross_val_scores['test_accuracy']\n",
    "    precision_scores = cross_val_scores['test_precision']\n",
    "    recall_scores = cross_val_scores['test_recall']\n",
    "    f1_scores = cross_val_scores['test_f1']\n",
    "    auc_scores = cross_val_scores['test_roc_auc']\n",
    "\n",
    "\n",
    "    # 각각의 지표 점수 출력\n",
    "    print('<<', model, '>>')\n",
    "    print('===' * 50)\n",
    "    print('1. 예측 Accuracy(정확도) : {0:.4f}'.format(accuracy_score(y_val, pred)))\n",
    "    print('===' * 50)\n",
    "    print('2. 예측 Precision(정밀도) : {0:.4f}'.format(precision_score(y_val, pred)))\n",
    "    print('===' * 50)\n",
    "    print('3. 예측 Recall(재현율): {0:.4f}'.format(recall_score(y_val, pred)))\n",
    "    print('===' * 50)\n",
    "    print('4. 예측 F1 Score : {0:.4f}'.format(f1_score(y_val, pred)))\n",
    "    print('===' * 50)\n",
    "    print('5. 예측 ROC-AUC Score : {0:.4f}'.format(roc_auc_score(y_val, pred)))"
   ]
  },
  {
   "attachments": {},
   "cell_type": "markdown",
   "metadata": {},
   "source": [
    "# **3. 데이터 로드(Data Loading)**"
   ]
  },
  {
   "cell_type": "code",
   "execution_count": 193,
   "metadata": {},
   "outputs": [],
   "source": [
    "Bankruptcy_org_df = pd.read_csv('data.csv')"
   ]
  },
  {
   "cell_type": "code",
   "execution_count": 194,
   "metadata": {},
   "outputs": [
    {
     "name": "stdout",
     "output_type": "stream",
     "text": [
      "Bankruptcy 데이터 세트 크기 :\n",
      " (1) row 갯수 : 6819 \n",
      " (2) features 갯수 : 96\n"
     ]
    },
    {
     "data": {
      "text/html": [
       "<div>\n",
       "<style scoped>\n",
       "    .dataframe tbody tr th:only-of-type {\n",
       "        vertical-align: middle;\n",
       "    }\n",
       "\n",
       "    .dataframe tbody tr th {\n",
       "        vertical-align: top;\n",
       "    }\n",
       "\n",
       "    .dataframe thead th {\n",
       "        text-align: right;\n",
       "    }\n",
       "</style>\n",
       "<table border=\"1\" class=\"dataframe\">\n",
       "  <thead>\n",
       "    <tr style=\"text-align: right;\">\n",
       "      <th></th>\n",
       "      <th>Bankrupt?</th>\n",
       "      <th>ROA(C) before interest and depreciation before interest</th>\n",
       "      <th>ROA(A) before interest and % after tax</th>\n",
       "      <th>ROA(B) before interest and depreciation after tax</th>\n",
       "      <th>Operating Gross Margin</th>\n",
       "      <th>Realized Sales Gross Margin</th>\n",
       "      <th>Operating Profit Rate</th>\n",
       "      <th>Pre-tax net Interest Rate</th>\n",
       "      <th>After-tax net Interest Rate</th>\n",
       "      <th>Non-industry income and expenditure/revenue</th>\n",
       "      <th>Continuous interest rate (after tax)</th>\n",
       "      <th>Operating Expense Rate</th>\n",
       "      <th>Research and development expense rate</th>\n",
       "      <th>Cash flow rate</th>\n",
       "      <th>Interest-bearing debt interest rate</th>\n",
       "      <th>Tax rate (A)</th>\n",
       "      <th>Net Value Per Share (B)</th>\n",
       "      <th>Net Value Per Share (A)</th>\n",
       "      <th>Net Value Per Share (C)</th>\n",
       "      <th>Persistent EPS in the Last Four Seasons</th>\n",
       "      <th>Cash Flow Per Share</th>\n",
       "      <th>Revenue Per Share (Yuan ¥)</th>\n",
       "      <th>Operating Profit Per Share (Yuan ¥)</th>\n",
       "      <th>Per Share Net profit before tax (Yuan ¥)</th>\n",
       "      <th>Realized Sales Gross Profit Growth Rate</th>\n",
       "      <th>Operating Profit Growth Rate</th>\n",
       "      <th>After-tax Net Profit Growth Rate</th>\n",
       "      <th>Regular Net Profit Growth Rate</th>\n",
       "      <th>Continuous Net Profit Growth Rate</th>\n",
       "      <th>Total Asset Growth Rate</th>\n",
       "      <th>Net Value Growth Rate</th>\n",
       "      <th>Total Asset Return Growth Rate Ratio</th>\n",
       "      <th>Cash Reinvestment %</th>\n",
       "      <th>Current Ratio</th>\n",
       "      <th>Quick Ratio</th>\n",
       "      <th>Interest Expense Ratio</th>\n",
       "      <th>Total debt/Total net worth</th>\n",
       "      <th>Debt ratio %</th>\n",
       "      <th>Net worth/Assets</th>\n",
       "      <th>Long-term fund suitability ratio (A)</th>\n",
       "      <th>Borrowing dependency</th>\n",
       "      <th>Contingent liabilities/Net worth</th>\n",
       "      <th>Operating profit/Paid-in capital</th>\n",
       "      <th>Net profit before tax/Paid-in capital</th>\n",
       "      <th>Inventory and accounts receivable/Net value</th>\n",
       "      <th>Total Asset Turnover</th>\n",
       "      <th>Accounts Receivable Turnover</th>\n",
       "      <th>Average Collection Days</th>\n",
       "      <th>Inventory Turnover Rate (times)</th>\n",
       "      <th>Fixed Assets Turnover Frequency</th>\n",
       "      <th>Net Worth Turnover Rate (times)</th>\n",
       "      <th>Revenue per person</th>\n",
       "      <th>Operating profit per person</th>\n",
       "      <th>Allocation rate per person</th>\n",
       "      <th>Working Capital to Total Assets</th>\n",
       "      <th>Quick Assets/Total Assets</th>\n",
       "      <th>Current Assets/Total Assets</th>\n",
       "      <th>Cash/Total Assets</th>\n",
       "      <th>Quick Assets/Current Liability</th>\n",
       "      <th>Cash/Current Liability</th>\n",
       "      <th>Current Liability to Assets</th>\n",
       "      <th>Operating Funds to Liability</th>\n",
       "      <th>Inventory/Working Capital</th>\n",
       "      <th>Inventory/Current Liability</th>\n",
       "      <th>Current Liabilities/Liability</th>\n",
       "      <th>Working Capital/Equity</th>\n",
       "      <th>Current Liabilities/Equity</th>\n",
       "      <th>Long-term Liability to Current Assets</th>\n",
       "      <th>Retained Earnings to Total Assets</th>\n",
       "      <th>Total income/Total expense</th>\n",
       "      <th>Total expense/Assets</th>\n",
       "      <th>Current Asset Turnover Rate</th>\n",
       "      <th>Quick Asset Turnover Rate</th>\n",
       "      <th>Working capitcal Turnover Rate</th>\n",
       "      <th>Cash Turnover Rate</th>\n",
       "      <th>Cash Flow to Sales</th>\n",
       "      <th>Fixed Assets to Assets</th>\n",
       "      <th>Current Liability to Liability</th>\n",
       "      <th>Current Liability to Equity</th>\n",
       "      <th>Equity to Long-term Liability</th>\n",
       "      <th>Cash Flow to Total Assets</th>\n",
       "      <th>Cash Flow to Liability</th>\n",
       "      <th>CFO to Assets</th>\n",
       "      <th>Cash Flow to Equity</th>\n",
       "      <th>Current Liability to Current Assets</th>\n",
       "      <th>Liability-Assets Flag</th>\n",
       "      <th>Net Income to Total Assets</th>\n",
       "      <th>Total assets to GNP price</th>\n",
       "      <th>No-credit Interval</th>\n",
       "      <th>Gross Profit to Sales</th>\n",
       "      <th>Net Income to Stockholder's Equity</th>\n",
       "      <th>Liability to Equity</th>\n",
       "      <th>Degree of Financial Leverage (DFL)</th>\n",
       "      <th>Interest Coverage Ratio (Interest expense to EBIT)</th>\n",
       "      <th>Net Income Flag</th>\n",
       "      <th>Equity to Liability</th>\n",
       "    </tr>\n",
       "  </thead>\n",
       "  <tbody>\n",
       "    <tr>\n",
       "      <th>6818</th>\n",
       "      <td>0</td>\n",
       "      <td>0.493053</td>\n",
       "      <td>0.570105</td>\n",
       "      <td>0.549548</td>\n",
       "      <td>0.627409</td>\n",
       "      <td>0.627409</td>\n",
       "      <td>0.99808</td>\n",
       "      <td>0.801987</td>\n",
       "      <td>0.8138</td>\n",
       "      <td>0.313415</td>\n",
       "      <td>0.786079</td>\n",
       "      <td>0.001432</td>\n",
       "      <td>0.0</td>\n",
       "      <td>0.427721</td>\n",
       "      <td>590000000.0</td>\n",
       "      <td>0.0</td>\n",
       "      <td>0.220766</td>\n",
       "      <td>0.220766</td>\n",
       "      <td>0.220766</td>\n",
       "      <td>0.227758</td>\n",
       "      <td>0.305793</td>\n",
       "      <td>0.000665</td>\n",
       "      <td>0.092501</td>\n",
       "      <td>0.182119</td>\n",
       "      <td>0.025316</td>\n",
       "      <td>0.848053</td>\n",
       "      <td>0.689527</td>\n",
       "      <td>0.689527</td>\n",
       "      <td>0.217605</td>\n",
       "      <td>9.350000e+09</td>\n",
       "      <td>0.000519</td>\n",
       "      <td>0.264186</td>\n",
       "      <td>0.360102</td>\n",
       "      <td>0.051348</td>\n",
       "      <td>0.040897</td>\n",
       "      <td>0.630618</td>\n",
       "      <td>0.000461</td>\n",
       "      <td>0.014149</td>\n",
       "      <td>0.985851</td>\n",
       "      <td>0.058476</td>\n",
       "      <td>0.370049</td>\n",
       "      <td>0.006368</td>\n",
       "      <td>0.092465</td>\n",
       "      <td>0.179911</td>\n",
       "      <td>0.393883</td>\n",
       "      <td>0.002999</td>\n",
       "      <td>0.000325</td>\n",
       "      <td>0.019474</td>\n",
       "      <td>19100000.0</td>\n",
       "      <td>0.0003</td>\n",
       "      <td>0.009194</td>\n",
       "      <td>0.002097</td>\n",
       "      <td>0.385767</td>\n",
       "      <td>0.000963</td>\n",
       "      <td>0.873759</td>\n",
       "      <td>0.527136</td>\n",
       "      <td>0.50501</td>\n",
       "      <td>0.238147</td>\n",
       "      <td>0.051481</td>\n",
       "      <td>0.066674</td>\n",
       "      <td>0.018517</td>\n",
       "      <td>0.239585</td>\n",
       "      <td>0.276975</td>\n",
       "      <td>0.0</td>\n",
       "      <td>1.0</td>\n",
       "      <td>0.737286</td>\n",
       "      <td>0.32669</td>\n",
       "      <td>0.0</td>\n",
       "      <td>0.938005</td>\n",
       "      <td>0.002791</td>\n",
       "      <td>0.006089</td>\n",
       "      <td>0.007864</td>\n",
       "      <td>0.008238</td>\n",
       "      <td>0.598674</td>\n",
       "      <td>0.009506</td>\n",
       "      <td>0.672096</td>\n",
       "      <td>0.005016</td>\n",
       "      <td>1.0</td>\n",
       "      <td>0.32669</td>\n",
       "      <td>0.110933</td>\n",
       "      <td>0.659917</td>\n",
       "      <td>0.483285</td>\n",
       "      <td>0.505531</td>\n",
       "      <td>0.316238</td>\n",
       "      <td>0.005579</td>\n",
       "      <td>0</td>\n",
       "      <td>0.815956</td>\n",
       "      <td>0.000707</td>\n",
       "      <td>0.62668</td>\n",
       "      <td>0.627408</td>\n",
       "      <td>0.841019</td>\n",
       "      <td>0.275114</td>\n",
       "      <td>0.026793</td>\n",
       "      <td>0.565167</td>\n",
       "      <td>1</td>\n",
       "      <td>0.233902</td>\n",
       "    </tr>\n",
       "  </tbody>\n",
       "</table>\n",
       "</div>"
      ],
      "text/plain": [
       "      Bankrupt?   ROA(C) before interest and depreciation before interest  \\\n",
       "6818          0                                           0.493053          \n",
       "\n",
       "       ROA(A) before interest and % after tax  \\\n",
       "6818                                 0.570105   \n",
       "\n",
       "       ROA(B) before interest and depreciation after tax  \\\n",
       "6818                                           0.549548    \n",
       "\n",
       "       Operating Gross Margin   Realized Sales Gross Margin  \\\n",
       "6818                 0.627409                      0.627409   \n",
       "\n",
       "       Operating Profit Rate   Pre-tax net Interest Rate  \\\n",
       "6818                 0.99808                    0.801987   \n",
       "\n",
       "       After-tax net Interest Rate  \\\n",
       "6818                        0.8138   \n",
       "\n",
       "       Non-industry income and expenditure/revenue  \\\n",
       "6818                                      0.313415   \n",
       "\n",
       "       Continuous interest rate (after tax)   Operating Expense Rate  \\\n",
       "6818                               0.786079                 0.001432   \n",
       "\n",
       "       Research and development expense rate   Cash flow rate  \\\n",
       "6818                                     0.0         0.427721   \n",
       "\n",
       "       Interest-bearing debt interest rate   Tax rate (A)  \\\n",
       "6818                           590000000.0            0.0   \n",
       "\n",
       "       Net Value Per Share (B)   Net Value Per Share (A)  \\\n",
       "6818                  0.220766                  0.220766   \n",
       "\n",
       "       Net Value Per Share (C)   Persistent EPS in the Last Four Seasons  \\\n",
       "6818                  0.220766                                  0.227758   \n",
       "\n",
       "       Cash Flow Per Share   Revenue Per Share (Yuan ¥)  \\\n",
       "6818              0.305793                     0.000665   \n",
       "\n",
       "       Operating Profit Per Share (Yuan ¥)  \\\n",
       "6818                              0.092501   \n",
       "\n",
       "       Per Share Net profit before tax (Yuan ¥)  \\\n",
       "6818                                   0.182119   \n",
       "\n",
       "       Realized Sales Gross Profit Growth Rate   Operating Profit Growth Rate  \\\n",
       "6818                                  0.025316                       0.848053   \n",
       "\n",
       "       After-tax Net Profit Growth Rate   Regular Net Profit Growth Rate  \\\n",
       "6818                           0.689527                         0.689527   \n",
       "\n",
       "       Continuous Net Profit Growth Rate   Total Asset Growth Rate  \\\n",
       "6818                            0.217605              9.350000e+09   \n",
       "\n",
       "       Net Value Growth Rate   Total Asset Return Growth Rate Ratio  \\\n",
       "6818                0.000519                               0.264186   \n",
       "\n",
       "       Cash Reinvestment %   Current Ratio   Quick Ratio  \\\n",
       "6818              0.360102        0.051348      0.040897   \n",
       "\n",
       "       Interest Expense Ratio   Total debt/Total net worth   Debt ratio %  \\\n",
       "6818                 0.630618                     0.000461       0.014149   \n",
       "\n",
       "       Net worth/Assets   Long-term fund suitability ratio (A)  \\\n",
       "6818           0.985851                               0.058476   \n",
       "\n",
       "       Borrowing dependency   Contingent liabilities/Net worth  \\\n",
       "6818               0.370049                           0.006368   \n",
       "\n",
       "       Operating profit/Paid-in capital  \\\n",
       "6818                           0.092465   \n",
       "\n",
       "       Net profit before tax/Paid-in capital  \\\n",
       "6818                                0.179911   \n",
       "\n",
       "       Inventory and accounts receivable/Net value   Total Asset Turnover  \\\n",
       "6818                                      0.393883               0.002999   \n",
       "\n",
       "       Accounts Receivable Turnover   Average Collection Days  \\\n",
       "6818                       0.000325                  0.019474   \n",
       "\n",
       "       Inventory Turnover Rate (times)   Fixed Assets Turnover Frequency  \\\n",
       "6818                        19100000.0                            0.0003   \n",
       "\n",
       "       Net Worth Turnover Rate (times)   Revenue per person  \\\n",
       "6818                          0.009194             0.002097   \n",
       "\n",
       "       Operating profit per person   Allocation rate per person  \\\n",
       "6818                      0.385767                     0.000963   \n",
       "\n",
       "       Working Capital to Total Assets   Quick Assets/Total Assets  \\\n",
       "6818                          0.873759                    0.527136   \n",
       "\n",
       "       Current Assets/Total Assets   Cash/Total Assets  \\\n",
       "6818                       0.50501            0.238147   \n",
       "\n",
       "       Quick Assets/Current Liability   Cash/Current Liability  \\\n",
       "6818                         0.051481                 0.066674   \n",
       "\n",
       "       Current Liability to Assets   Operating Funds to Liability  \\\n",
       "6818                      0.018517                       0.239585   \n",
       "\n",
       "       Inventory/Working Capital   Inventory/Current Liability  \\\n",
       "6818                    0.276975                           0.0   \n",
       "\n",
       "       Current Liabilities/Liability   Working Capital/Equity  \\\n",
       "6818                             1.0                 0.737286   \n",
       "\n",
       "       Current Liabilities/Equity   Long-term Liability to Current Assets  \\\n",
       "6818                      0.32669                                     0.0   \n",
       "\n",
       "       Retained Earnings to Total Assets   Total income/Total expense  \\\n",
       "6818                            0.938005                     0.002791   \n",
       "\n",
       "       Total expense/Assets   Current Asset Turnover Rate  \\\n",
       "6818               0.006089                      0.007864   \n",
       "\n",
       "       Quick Asset Turnover Rate   Working capitcal Turnover Rate  \\\n",
       "6818                    0.008238                         0.598674   \n",
       "\n",
       "       Cash Turnover Rate   Cash Flow to Sales   Fixed Assets to Assets  \\\n",
       "6818             0.009506             0.672096                 0.005016   \n",
       "\n",
       "       Current Liability to Liability   Current Liability to Equity  \\\n",
       "6818                              1.0                       0.32669   \n",
       "\n",
       "       Equity to Long-term Liability   Cash Flow to Total Assets  \\\n",
       "6818                        0.110933                    0.659917   \n",
       "\n",
       "       Cash Flow to Liability   CFO to Assets   Cash Flow to Equity  \\\n",
       "6818                 0.483285        0.505531              0.316238   \n",
       "\n",
       "       Current Liability to Current Assets   Liability-Assets Flag  \\\n",
       "6818                              0.005579                       0   \n",
       "\n",
       "       Net Income to Total Assets   Total assets to GNP price  \\\n",
       "6818                     0.815956                    0.000707   \n",
       "\n",
       "       No-credit Interval   Gross Profit to Sales  \\\n",
       "6818              0.62668                0.627408   \n",
       "\n",
       "       Net Income to Stockholder's Equity   Liability to Equity  \\\n",
       "6818                             0.841019              0.275114   \n",
       "\n",
       "       Degree of Financial Leverage (DFL)  \\\n",
       "6818                             0.026793   \n",
       "\n",
       "       Interest Coverage Ratio (Interest expense to EBIT)   Net Income Flag  \\\n",
       "6818                                           0.565167                   1   \n",
       "\n",
       "       Equity to Liability  \n",
       "6818              0.233902  "
      ]
     },
     "execution_count": 194,
     "metadata": {},
     "output_type": "execute_result"
    }
   ],
   "source": [
    "print('Bankruptcy 데이터 세트 크기 :\\n', \n",
    "      '(1) row 갯수 :', Bankruptcy_org_df.shape[0], '\\n',\n",
    "      '(2) features 갯수 :', Bankruptcy_org_df.shape[1])\n",
    "\n",
    "\n",
    "# 모든 컬럼을 보디 위한 설정\n",
    "pd.set_option('display.max_columns', None)\n",
    "\n",
    "Bankruptcy_org_df = pd.read_csv('data.csv')\n",
    "Bankruptcy_org_df.tail(1)"
   ]
  },
  {
   "attachments": {},
   "cell_type": "markdown",
   "metadata": {},
   "source": [
    "# **4. 범주형과 연속형 변수 나누기**"
   ]
  },
  {
   "cell_type": "code",
   "execution_count": 195,
   "metadata": {},
   "outputs": [],
   "source": [
    "Bankruptcy_org_df.columns.tolist()\n",
    "\n",
    "# 컬럼명 앞에 공백 지우기\n",
    "Bankruptcy_org_df.columns = Bankruptcy_org_df.columns.str.strip()"
   ]
  },
  {
   "cell_type": "code",
   "execution_count": 196,
   "metadata": {},
   "outputs": [
    {
     "name": "stdout",
     "output_type": "stream",
     "text": [
      "범주형 피처의 갯수 :  2 개\n",
      "연속형 피처의 갯수 :  93 개\n"
     ]
    }
   ],
   "source": [
    "# 카테고리형 변수\n",
    "categorical_vars = ['Liability-Assets Flag', 'Net Income Flag']\n",
    "\n",
    "\n",
    "# 연속형 변수\n",
    "continuous_vars = [\n",
    "    col \n",
    "    for col in Bankruptcy_org_df.columns \n",
    "    if col not in categorical_vars and col != 'Bankrupt?']\n",
    "\n",
    "\n",
    "categorical = Bankruptcy_org_df[categorical_vars]\n",
    "print('범주형 피처의 갯수 : ', categorical.shape[1], '개')\n",
    "\n",
    "continuous = Bankruptcy_org_df[continuous_vars] \n",
    "print('연속형 피처의 갯수 : ', continuous.shape[1], '개')"
   ]
  },
  {
   "attachments": {},
   "cell_type": "markdown",
   "metadata": {},
   "source": [
    "# **5. 피처 엔지니어링(Feature Engineering)**"
   ]
  },
  {
   "attachments": {},
   "cell_type": "markdown",
   "metadata": {},
   "source": [
    "### **~~1) Oversampling - 타겟 불균형 처리~~**\n",
    "- 학습 데이터에 대해서만\n",
    "- 주의 : imblearn 의 pipline을 써야함. (사이킷런의 pipline을 쓰면 잘못된 것.)\n",
    "- pipline 안에 oversample = SMOTE()"
   ]
  },
  {
   "cell_type": "code",
   "execution_count": 197,
   "metadata": {},
   "outputs": [],
   "source": [
    "# y_target = Bankruptcy_org_df['Bankrupt?']\n",
    "# X_features = Bankruptcy_org_df.drop(columns=['Bankrupt?'], axis=1)"
   ]
  },
  {
   "cell_type": "code",
   "execution_count": 198,
   "metadata": {},
   "outputs": [],
   "source": [
    "# X_train, X_test, y_train, y_test = train_test_split(X_features, y_target, test_size=0.2, stratify=y_target)"
   ]
  },
  {
   "cell_type": "code",
   "execution_count": 199,
   "metadata": {},
   "outputs": [],
   "source": [
    "# pipeline = imbpipeline(steps = [['smote', SMOTE(random_state=42)],\n",
    "#                                 ['scaler', MinMaxScaler()],\n",
    "#                                 ['classifier', LogisticRegression(random_state=11, max_iter=1000)]])"
   ]
  },
  {
   "cell_type": "code",
   "execution_count": 200,
   "metadata": {},
   "outputs": [],
   "source": [
    "# pipeline.get_params()"
   ]
  },
  {
   "cell_type": "code",
   "execution_count": 201,
   "metadata": {},
   "outputs": [],
   "source": [
    "# stratified_kfold = StratifiedKFold(n_splits=3, shuffle=True, random_state=42)\n",
    "# param_grid = {'classifier__C':[0.001, 0.01, 0.1, 1, 10, 100, 1000]}\n",
    "\n",
    "# grid_search = GridSearchCV(estimator=pipeline, param_grid=param_grid, scoring='roc_auc', cv=stratified_kfold, n_jobs=-1)\n",
    "# grid_search.fit(X_train, y_train)"
   ]
  },
  {
   "cell_type": "code",
   "execution_count": 202,
   "metadata": {},
   "outputs": [],
   "source": [
    "# cv_score = grid_search.best_score_\n",
    "# print(f'Cross-validation score: {cv_score}')"
   ]
  },
  {
   "cell_type": "code",
   "execution_count": 203,
   "metadata": {},
   "outputs": [],
   "source": [
    "# test_score = grid_search.score(X_test, y_test)\n",
    "# print(f'Test score: {test_score}')"
   ]
  },
  {
   "attachments": {},
   "cell_type": "markdown",
   "metadata": {},
   "source": [
    "### **2) 연속형 피처의 불균형 --> 스케일링 (StandardScaler)**"
   ]
  },
  {
   "cell_type": "code",
   "execution_count": 204,
   "metadata": {},
   "outputs": [],
   "source": [
    "# 연속형 피처의 이름만 가져오기\n",
    "continuous_features_name = continuous.columns"
   ]
  },
  {
   "cell_type": "code",
   "execution_count": 205,
   "metadata": {},
   "outputs": [],
   "source": [
    "scaler = StandardScaler()\n",
    "\n",
    "Bankruptcy_new_df = Bankruptcy_org_df.copy()\n",
    "Bankruptcy_new_df[continuous_features_name] = scaler.fit_transform(Bankruptcy_new_df[continuous_features_name])"
   ]
  },
  {
   "cell_type": "code",
   "execution_count": 207,
   "metadata": {},
   "outputs": [],
   "source": [
    "scaler = StandardScaler()\n",
    "\n",
    "s_scaler_df = Bankruptcy_org_df.copy()\n",
    "s_scaler_df[continuous_features_name] = scaler.fit_transform(s_scaler_df[continuous_features_name])"
   ]
  },
  {
   "attachments": {},
   "cell_type": "markdown",
   "metadata": {},
   "source": [
    "### **3) 연속형 피처의 불균형 --> 정규화 (Normalization)**"
   ]
  },
  {
   "cell_type": "code",
   "execution_count": 208,
   "metadata": {},
   "outputs": [],
   "source": [
    "norm_scaler = MinMaxScaler()\n",
    "\n",
    "n_scaler_df = Bankruptcy_org_df.copy()\n",
    "n_scaler_df[continuous_features_name] = norm_scaler.fit_transform(n_scaler_df[continuous_features_name])"
   ]
  },
  {
   "attachments": {},
   "cell_type": "markdown",
   "metadata": {},
   "source": [
    "# **6. 훈련 및 시험 데이터 분리**"
   ]
  },
  {
   "attachments": {},
   "cell_type": "markdown",
   "metadata": {},
   "source": [
    "### **1) 스케일링 적용 후 사용할 변수**"
   ]
  },
  {
   "cell_type": "code",
   "execution_count": 209,
   "metadata": {},
   "outputs": [],
   "source": [
    "s_scaler_y_target = s_scaler_df['Bankrupt?']\n",
    "s_scaler_X_features = s_scaler_df.drop(columns=['Bankrupt?'], axis=1)"
   ]
  },
  {
   "cell_type": "code",
   "execution_count": 210,
   "metadata": {},
   "outputs": [],
   "source": [
    "s_scaler_X_train, s_scaler_X_test, s_scaler_y_train, s_scaler_y_test = train_test_split(s_scaler_X_features, s_scaler_y_target, test_size=0.2, random_state=42)"
   ]
  },
  {
   "cell_type": "code",
   "execution_count": 211,
   "metadata": {},
   "outputs": [
    {
     "name": "stdout",
     "output_type": "stream",
     "text": [
      "s스케일러 적용된 학습용 피처의 Shape : (5455, 95)\n",
      "s스케일러 적용된 시험용 피처의 Shape : (1364, 95)\n",
      "s스케일러 적용된 학습용 라벨의 Shape : (5455,)\n",
      "s스케일러 적용된 시험용 라벨의 Shape : (1364,)\n"
     ]
    }
   ],
   "source": [
    "print('s스케일러 적용된 학습용 피처의 Shape :', s_scaler_X_train.shape)\n",
    "print('s스케일러 적용된 시험용 피처의 Shape :', s_scaler_X_test.shape)\n",
    "print('s스케일러 적용된 학습용 라벨의 Shape :', s_scaler_y_train.shape)\n",
    "print('s스케일러 적용된 시험용 라벨의 Shape :', s_scaler_y_test.shape)"
   ]
  },
  {
   "cell_type": "code",
   "execution_count": 212,
   "metadata": {},
   "outputs": [],
   "source": [
    "n_scaler_y_target = n_scaler_df['Bankrupt?']\n",
    "n_scaler_X_features = n_scaler_df.drop(columns=['Bankrupt?'], axis=1)"
   ]
  },
  {
   "cell_type": "code",
   "execution_count": 213,
   "metadata": {},
   "outputs": [],
   "source": [
    "n_scaler_X_train, n_scaler_X_test, n_scaler_y_train, n_scaler_y_test = train_test_split(n_scaler_X_features, n_scaler_y_target, test_size=0.2,random_state=42)"
   ]
  },
  {
   "cell_type": "code",
   "execution_count": 214,
   "metadata": {},
   "outputs": [
    {
     "name": "stdout",
     "output_type": "stream",
     "text": [
      "n스케일러 적용된 학습용 피처의 Shape : (5455, 95)\n",
      "n스케일러 적용된 시험용 피처의 Shape : (1364, 95)\n",
      "n스케일러 적용된 학습용 라벨의 Shape : (5455,)\n",
      "n스케일러 적용된 시험용 라벨의 Shape : (1364,)\n"
     ]
    }
   ],
   "source": [
    "print('n스케일러 적용된 학습용 피처의 Shape :', n_scaler_X_train.shape)\n",
    "print('n스케일러 적용된 시험용 피처의 Shape :', n_scaler_X_test.shape)\n",
    "print('n스케일러 적용된 학습용 라벨의 Shape :', n_scaler_y_train.shape)\n",
    "print('n스케일러 적용된 시험용 라벨의 Shape :', n_scaler_y_test.shape)"
   ]
  },
  {
   "attachments": {},
   "cell_type": "markdown",
   "metadata": {},
   "source": [
    "# **7. 모델 훈련 및 예측 검증**"
   ]
  },
  {
   "attachments": {},
   "cell_type": "markdown",
   "metadata": {},
   "source": [
    "#### **(1) 로지스틱 회귀(LogisticRegression) 모델의 성능검증**"
   ]
  },
  {
   "cell_type": "code",
   "execution_count": 253,
   "metadata": {},
   "outputs": [],
   "source": [
    "lr_clf = LogisticRegression(max_iter=100, solver='saga', random_state=42)"
   ]
  },
  {
   "cell_type": "code",
   "execution_count": 248,
   "metadata": {},
   "outputs": [
    {
     "name": "stdout",
     "output_type": "stream",
     "text": [
      "1. 로지스틱 회귀 모델 성능검증 (Standardization)\n",
      "<< LogisticRegression(random_state=42, solver='saga') >>\n",
      "======================================================================================================================================================\n",
      "1. 예측 Accuracy(정확도) : 0.9685\n",
      "======================================================================================================================================================\n",
      "2. 예측 Precision(정밀도) : 0.7857\n",
      "======================================================================================================================================================\n",
      "3. 예측 Recall(재현율): 0.2157\n",
      "======================================================================================================================================================\n",
      "4. 예측 F1 Score : 0.3385\n",
      "======================================================================================================================================================\n",
      "5. 예측 ROC-AUC Score : 0.6067\n"
     ]
    }
   ],
   "source": [
    "print('1. 로지스틱 회귀 모델 성능검증 (Standardization)')\n",
    "cross_model_validation(lr_clf, s_scaler_X_train, s_scaler_y_train, s_scaler_X_test, s_scaler_y_test)"
   ]
  },
  {
   "cell_type": "code",
   "execution_count": 249,
   "metadata": {},
   "outputs": [
    {
     "name": "stdout",
     "output_type": "stream",
     "text": [
      "1-2. 로지스틱 회귀 모델 성능검증 (MinMaxScaler)\n",
      "<< LogisticRegression(random_state=42, solver='saga') >>\n",
      "======================================================================================================================================================\n",
      "1. 예측 Accuracy(정확도) : 0.9663\n",
      "======================================================================================================================================================\n",
      "2. 예측 Precision(정밀도) : 0.8571\n",
      "======================================================================================================================================================\n",
      "3. 예측 Recall(재현율): 0.1176\n",
      "======================================================================================================================================================\n",
      "4. 예측 F1 Score : 0.2069\n",
      "======================================================================================================================================================\n",
      "5. 예측 ROC-AUC Score : 0.5584\n"
     ]
    }
   ],
   "source": [
    "print('1-2. 로지스틱 회귀 모델 성능검증 (MinMaxScaler)')\n",
    "cross_model_validation(lr_clf, n_scaler_X_train, n_scaler_y_train, n_scaler_X_test, n_scaler_y_test)"
   ]
  },
  {
   "attachments": {},
   "cell_type": "markdown",
   "metadata": {},
   "source": [
    "#### **(2) 랜덤포레스트(RandomForestClassifier) 모델의 성능검증**"
   ]
  },
  {
   "cell_type": "code",
   "execution_count": 259,
   "metadata": {},
   "outputs": [],
   "source": [
    "rf_clf = RandomForestClassifier(n_estimators=300, max_depth=5, random_state=42) "
   ]
  },
  {
   "cell_type": "code",
   "execution_count": 255,
   "metadata": {},
   "outputs": [
    {
     "name": "stdout",
     "output_type": "stream",
     "text": [
      "2. 랜덤포레스트 모델 성능검증 (Standardization)\n",
      "<< RandomForestClassifier(max_depth=5, n_estimators=300, random_state=42) >>\n",
      "======================================================================================================================================================\n",
      "1. 예측 Accuracy(정확도) : 0.9670\n",
      "======================================================================================================================================================\n",
      "2. 예측 Precision(정밀도) : 1.0000\n",
      "======================================================================================================================================================\n",
      "3. 예측 Recall(재현율): 0.1176\n",
      "======================================================================================================================================================\n",
      "4. 예측 F1 Score : 0.2105\n",
      "======================================================================================================================================================\n",
      "5. 예측 ROC-AUC Score : 0.5588\n"
     ]
    }
   ],
   "source": [
    "print('2. 랜덤포레스트 모델 성능검증 (Standardization)')\n",
    "cross_model_validation(rf_clf, s_scaler_X_train, s_scaler_y_train, s_scaler_X_test, s_scaler_y_test)"
   ]
  },
  {
   "cell_type": "code",
   "execution_count": 256,
   "metadata": {},
   "outputs": [
    {
     "name": "stdout",
     "output_type": "stream",
     "text": [
      "2-2. 랜덤포레스트 모델 성능검증 (MinMaxScaler)\n",
      "<< RandomForestClassifier(max_depth=5, n_estimators=300, random_state=42) >>\n",
      "======================================================================================================================================================\n",
      "1. 예측 Accuracy(정확도) : 0.9670\n",
      "======================================================================================================================================================\n",
      "2. 예측 Precision(정밀도) : 1.0000\n",
      "======================================================================================================================================================\n",
      "3. 예측 Recall(재현율): 0.1176\n",
      "======================================================================================================================================================\n",
      "4. 예측 F1 Score : 0.2105\n",
      "======================================================================================================================================================\n",
      "5. 예측 ROC-AUC Score : 0.5588\n"
     ]
    }
   ],
   "source": [
    "print('2-2. 랜덤포레스트 모델 성능검증 (MinMaxScaler)')\n",
    "cross_model_validation(rf_clf, n_scaler_X_train, n_scaler_y_train, n_scaler_X_test, n_scaler_y_test)"
   ]
  },
  {
   "attachments": {},
   "cell_type": "markdown",
   "metadata": {},
   "source": [
    "#### **(3) XGBClassifier 모델의 성능검증**"
   ]
  },
  {
   "cell_type": "code",
   "execution_count": 262,
   "metadata": {},
   "outputs": [],
   "source": [
    "xgb_clf = XGBClassifier(n_estimators=500, learning_rate=0.05, max_depth=5, random_state=42)"
   ]
  },
  {
   "cell_type": "code",
   "execution_count": 263,
   "metadata": {},
   "outputs": [
    {
     "name": "stdout",
     "output_type": "stream",
     "text": [
      "3. XGB 모델 성능검증 (Standardization)\n",
      "<< XGBClassifier(base_score=None, booster=None, callbacks=None,\n",
      "              colsample_bylevel=None, colsample_bynode=None,\n",
      "              colsample_bytree=None, early_stopping_rounds=None,\n",
      "              enable_categorical=False, eval_metric=None, feature_types=None,\n",
      "              gamma=None, gpu_id=None, grow_policy=None, importance_type=None,\n",
      "              interaction_constraints=None, learning_rate=0.05, max_bin=None,\n",
      "              max_cat_threshold=None, max_cat_to_onehot=None,\n",
      "              max_delta_step=None, max_depth=5, max_leaves=None,\n",
      "              min_child_weight=None, missing=nan, monotone_constraints=None,\n",
      "              n_estimators=500, n_jobs=None, num_parallel_tree=None,\n",
      "              predictor=None, random_state=42, ...) >>\n",
      "======================================================================================================================================================\n",
      "1. 예측 Accuracy(정확도) : 0.9670\n",
      "======================================================================================================================================================\n",
      "2. 예측 Precision(정밀도) : 0.6667\n",
      "======================================================================================================================================================\n",
      "3. 예측 Recall(재현율): 0.2353\n",
      "======================================================================================================================================================\n",
      "4. 예측 F1 Score : 0.3478\n",
      "======================================================================================================================================================\n",
      "5. 예측 ROC-AUC Score : 0.6154\n"
     ]
    }
   ],
   "source": [
    "print('3. XGB 모델 성능검증 (Standardization)')\n",
    "cross_model_validation(xgb_clf, s_scaler_X_train, s_scaler_y_train, s_scaler_X_test, s_scaler_y_test)"
   ]
  },
  {
   "cell_type": "code",
   "execution_count": 264,
   "metadata": {},
   "outputs": [
    {
     "name": "stdout",
     "output_type": "stream",
     "text": [
      "3. XGB 모델 성능검증 (MinMaxScaler)\n",
      "<< XGBClassifier(base_score=None, booster=None, callbacks=None,\n",
      "              colsample_bylevel=None, colsample_bynode=None,\n",
      "              colsample_bytree=None, early_stopping_rounds=None,\n",
      "              enable_categorical=False, eval_metric=None, feature_types=None,\n",
      "              gamma=None, gpu_id=None, grow_policy=None, importance_type=None,\n",
      "              interaction_constraints=None, learning_rate=0.05, max_bin=None,\n",
      "              max_cat_threshold=None, max_cat_to_onehot=None,\n",
      "              max_delta_step=None, max_depth=5, max_leaves=None,\n",
      "              min_child_weight=None, missing=nan, monotone_constraints=None,\n",
      "              n_estimators=500, n_jobs=None, num_parallel_tree=None,\n",
      "              predictor=None, random_state=42, ...) >>\n",
      "======================================================================================================================================================\n",
      "1. 예측 Accuracy(정확도) : 0.9641\n",
      "======================================================================================================================================================\n",
      "2. 예측 Precision(정밀도) : 0.5500\n",
      "======================================================================================================================================================\n",
      "3. 예측 Recall(재현율): 0.2157\n",
      "======================================================================================================================================================\n",
      "4. 예측 F1 Score : 0.3099\n",
      "======================================================================================================================================================\n",
      "5. 예측 ROC-AUC Score : 0.6044\n"
     ]
    }
   ],
   "source": [
    "print('3. XGB 모델 성능검증 (MinMaxScaler)')\n",
    "cross_model_validation(xgb_clf, n_scaler_X_train, n_scaler_y_train, n_scaler_X_test, n_scaler_y_test)"
   ]
  },
  {
   "attachments": {},
   "cell_type": "markdown",
   "metadata": {},
   "source": [
    "#### **(4) LGBMClassifier 모델의 성능검증**"
   ]
  },
  {
   "cell_type": "code",
   "execution_count": 266,
   "metadata": {},
   "outputs": [],
   "source": [
    "lgbm_clf = LGBMClassifier(learning_rate=0.1, n_estimators=100, max_depth=5, num_leaves=20, random_state=42)"
   ]
  },
  {
   "cell_type": "code",
   "execution_count": 267,
   "metadata": {},
   "outputs": [
    {
     "name": "stdout",
     "output_type": "stream",
     "text": [
      "4. LGBM 모델 성능검증 (Standardization)\n",
      "<< LGBMClassifier(max_depth=5, num_leaves=20, random_state=42) >>\n",
      "======================================================================================================================================================\n",
      "1. 예측 Accuracy(정확도) : 0.9663\n",
      "======================================================================================================================================================\n",
      "2. 예측 Precision(정밀도) : 0.6000\n",
      "======================================================================================================================================================\n",
      "3. 예측 Recall(재현율): 0.2941\n",
      "======================================================================================================================================================\n",
      "4. 예측 F1 Score : 0.3947\n",
      "======================================================================================================================================================\n",
      "5. 예측 ROC-AUC Score : 0.6433\n"
     ]
    }
   ],
   "source": [
    "print('4. LGBM 모델 성능검증 (Standardization)')\n",
    "cross_model_validation(lgbm_clf, s_scaler_X_train, s_scaler_y_train, s_scaler_X_test, s_scaler_y_test)"
   ]
  },
  {
   "cell_type": "code",
   "execution_count": 268,
   "metadata": {},
   "outputs": [
    {
     "name": "stdout",
     "output_type": "stream",
     "text": [
      "4. LGBM 모델 성능검증 (MinMaxScaler)\n",
      "<< LGBMClassifier(max_depth=5, num_leaves=20, random_state=42) >>\n",
      "======================================================================================================================================================\n",
      "1. 예측 Accuracy(정확도) : 0.9655\n",
      "======================================================================================================================================================\n",
      "2. 예측 Precision(정밀도) : 0.5909\n",
      "======================================================================================================================================================\n",
      "3. 예측 Recall(재현율): 0.2549\n",
      "======================================================================================================================================================\n",
      "4. 예측 F1 Score : 0.3562\n",
      "======================================================================================================================================================\n",
      "5. 예측 ROC-AUC Score : 0.6240\n"
     ]
    }
   ],
   "source": [
    "print('4. LGBM 모델 성능검증 (MinMaxScaler)')\n",
    "cross_model_validation(lgbm_clf, n_scaler_X_train, n_scaler_y_train, n_scaler_X_test, n_scaler_y_test)"
   ]
  }
 ],
 "metadata": {
  "kernelspec": {
   "display_name": "mlearning",
   "language": "python",
   "name": "python3"
  },
  "language_info": {
   "codemirror_mode": {
    "name": "ipython",
    "version": 3
   },
   "file_extension": ".py",
   "mimetype": "text/x-python",
   "name": "python",
   "nbconvert_exporter": "python",
   "pygments_lexer": "ipython3",
   "version": "3.8.16"
  },
  "orig_nbformat": 4
 },
 "nbformat": 4,
 "nbformat_minor": 2
}
