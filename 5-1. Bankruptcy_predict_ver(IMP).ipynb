{
 "cells": [
  {
   "attachments": {},
   "cell_type": "markdown",
   "metadata": {},
   "source": [
    "# **<< Improve machine performance : 기계 성능 개선 >>**"
   ]
  },
  {
   "attachments": {},
   "cell_type": "markdown",
   "metadata": {},
   "source": [
    "# **1. 모듈 호출**"
   ]
  },
  {
   "cell_type": "code",
   "execution_count": 7,
   "metadata": {},
   "outputs": [],
   "source": [
    "import pandas as pd \n",
    "import numpy as np\n",
    "import matplotlib.pyplot as plt \n",
    "import seaborn as sns\n",
    "\n",
    "# 1. 데이터(학습/평가) 분리\n",
    "from sklearn.model_selection import train_test_split\n",
    "\n",
    "\n",
    "# 2. 피처 엔지니어링\n",
    "# 오버샘플링 --> 타겟 데이터 불균형 해결을 위한\n",
    "from imblearn.over_sampling import SMOTE   # imblearn 의 pipline을 써야함. (사이킷런의 pipline을 쓰면 잘못된 것.)\n",
    "from imblearn.pipeline import Pipeline as imbpipeline\n",
    "from sklearn.preprocessing import MinMaxScaler\n",
    "from sklearn.model_selection import StratifiedKFold\n",
    "# 정규화 --> 연속형 피처 불균형 해결을 위한\n",
    "from sklearn.preprocessing import StandardScaler\n",
    "from sklearn.preprocessing import MinMaxScaler\n",
    "# # 범주형 변수 원핫인코딩\n",
    "# from sklearn.preprocessing import OneHotEncoder\n",
    "\n",
    "\n",
    "# 3. (분류) 학습 모델\n",
    "from sklearn.linear_model import LogisticRegression\n",
    "from sklearn.tree import DecisionTreeClassifier\n",
    "from sklearn.ensemble import RandomForestClassifier\n",
    "from xgboost import XGBClassifier\n",
    "from lightgbm import LGBMClassifier\n",
    "\n",
    "\n",
    "# 4. 하이퍼파라미터 튜닝\n",
    "from sklearn.model_selection import GridSearchCV\n",
    "\n",
    "\n",
    "# 5. 학습 검정 모델\n",
    "# from sklearn.model_selection import cross_val_score\n",
    "from sklearn.model_selection import cross_validate\n",
    "\n",
    "# 6. (분류) 평가 모델\n",
    "from sklearn.metrics import confusion_matrix, accuracy_score, precision_score, recall_score, f1_score, roc_auc_score\n",
    "\n",
    "import warnings\n",
    "warnings.filterwarnings('ignore')"
   ]
  },
  {
   "attachments": {},
   "cell_type": "markdown",
   "metadata": {},
   "source": [
    "# **2. 함수 만들기**"
   ]
  },
  {
   "attachments": {},
   "cell_type": "markdown",
   "metadata": {},
   "source": [
    "### **1) 분류 모델의 성능 검정**"
   ]
  },
  {
   "cell_type": "code",
   "execution_count": 8,
   "metadata": {},
   "outputs": [],
   "source": [
    "def cross_model_validation (model, X, y, X_val, y_val) :\n",
    "    \"\"\"\n",
    "    선정한 모델과 학습 피처, 학습 타겟값을 인자받아 \n",
    "    cross_val_score를 활용한 모델 검증 함수.\n",
    "    \"\"\"\n",
    "    \n",
    "    # K-Fold Cross Validation\n",
    "    cross_val_scores = cross_validate(model, X=X, y=y, cv=5, scoring=['accuracy', 'precision', 'recall', 'f1', 'roc_auc'])\n",
    "\n",
    "    model.fit(X, y)\n",
    "    pred = model.predict(X_val)\n",
    "\n",
    "    # 점수 \n",
    "    accuracy_scores = cross_val_scores['test_accuracy']\n",
    "    precision_scores = cross_val_scores['test_precision']\n",
    "    recall_scores = cross_val_scores['test_recall']\n",
    "    f1_scores = cross_val_scores['test_f1']\n",
    "    auc_scores = cross_val_scores['test_roc_auc']\n",
    "\n",
    "\n",
    "    # 각각의 지표 점수 출력\n",
    "    print('<<', model, '>>')\n",
    "    print('===' * 50)\n",
    "    print('1. 예측 Accuracy(정확도) : {0:.4f}'.format(accuracy_score(y_val, pred)))\n",
    "    print('===' * 50)\n",
    "    print('2. 예측 Precision(정밀도) : {0:.4f}'.format(precision_score(y_val, pred)))\n",
    "    print('===' * 50)\n",
    "    print('3. 예측 Recall(재현율): {0:.4f}'.format(recall_score(y_val, pred)))\n",
    "    print('===' * 50)\n",
    "    print('4. 예측 F1 Score : {0:.4f}'.format(f1_score(y_val, pred)))\n",
    "    print('===' * 50)\n",
    "    print('5. 예측 ROC-AUC Score : {0:.4f}'.format(roc_auc_score(y_val, pred)))"
   ]
  },
  {
   "attachments": {},
   "cell_type": "markdown",
   "metadata": {},
   "source": [
    "### **2) 분류 모델의 평가 지표**"
   ]
  },
  {
   "cell_type": "code",
   "execution_count": 62,
   "metadata": {},
   "outputs": [],
   "source": [
    "def classification_evaluation(y_test, pred=None, pred_proba=None) :\n",
    "    \"\"\"\n",
    "    <함수 설명>\n",
    "    y_test, pred, pred_proba를 입력받아 \n",
    "    분류 모델의 평가 지표를 계산\n",
    "\n",
    "    <결과>\n",
    "    - confusion_matrix \n",
    "    - ('정확도: {0:.4f}, 정밀도: {1:.4f}, 재현율: {2:.4f}, F1: {3:.4f}, AUC:{4:.4f}')\n",
    "    \"\"\"\n",
    "\n",
    "    confusion = confusion_matrix(y_test, pred)\n",
    "    accuracy = accuracy_score(y_test , pred)\n",
    "    precision = precision_score(y_test , pred)\n",
    "    recall = recall_score(y_test , pred)\n",
    "    f1 = f1_score(y_test,pred)\n",
    "    roc_auc = roc_auc_score(y_test, pred_proba)\n",
    "    \n",
    "    \n",
    "    print('오차 행렬')\n",
    "    sns.heatmap(confusion_matrix(y_test, pred), annot=True)\n",
    "    print(confusion)\n",
    "    \n",
    "\n",
    "    print('정확도: {0:.4f}, 정밀도: {1:.4f}, 재현율: {2:.4f},\\\n",
    "    F1: {3:.4f}, AUC:{4:.4f}'.format(accuracy, precision, recall, f1, roc_auc))"
   ]
  },
  {
   "attachments": {},
   "cell_type": "markdown",
   "metadata": {},
   "source": [
    "### **3) 모델 학습/예측/평가**\n",
    "- Feature Engineering 후 반복적으로 모델 학습/예측/평가 작업이 수행되어야 함.\n",
    "- 위에서 만든 분류모델 평가지표까지 포함함."
   ]
  },
  {
   "cell_type": "code",
   "execution_count": 10,
   "metadata": {},
   "outputs": [],
   "source": [
    "def train_pred_eval(model, X_train=None, X_test=None, y_train=None, y_test=None) :\n",
    "    \"\"\"\n",
    "    <함수 설명>\n",
    "    - 모델명과 X_train, y_train를 인자받아 학습시킴\n",
    "    - 인자받은 X_test로 모델을 예측하고, 예측 확률을 구함.\n",
    "    - classification_evaluation 함수를 가지고 모델을 평가함.\n",
    "    \"\"\"\n",
    "\n",
    "    # 학습\n",
    "    model.fit(X_train, y_train)\n",
    "    # 예측\n",
    "    pred = model.predict(X_test)\n",
    "    # 예측 확률\n",
    "    pred_proba = model.predict_proba(X_test)[:, 1]\n",
    "    \n",
    "    \n",
    "    # 모델 평가\n",
    "    classification_evaluation(y_test, pred, pred_proba)"
   ]
  },
  {
   "attachments": {},
   "cell_type": "markdown",
   "metadata": {},
   "source": [
    "# **3. 데이터 로드(Data Loading)**"
   ]
  },
  {
   "cell_type": "code",
   "execution_count": 11,
   "metadata": {},
   "outputs": [],
   "source": [
    "Bankruptcy_org_df = pd.read_csv('data.csv')"
   ]
  },
  {
   "cell_type": "code",
   "execution_count": 12,
   "metadata": {},
   "outputs": [
    {
     "name": "stdout",
     "output_type": "stream",
     "text": [
      "Bankruptcy 데이터 세트 크기 :\n",
      " (1) row 갯수 : 6819 \n",
      " (2) features 갯수 : 96\n"
     ]
    },
    {
     "data": {
      "text/html": [
       "<div>\n",
       "<style scoped>\n",
       "    .dataframe tbody tr th:only-of-type {\n",
       "        vertical-align: middle;\n",
       "    }\n",
       "\n",
       "    .dataframe tbody tr th {\n",
       "        vertical-align: top;\n",
       "    }\n",
       "\n",
       "    .dataframe thead th {\n",
       "        text-align: right;\n",
       "    }\n",
       "</style>\n",
       "<table border=\"1\" class=\"dataframe\">\n",
       "  <thead>\n",
       "    <tr style=\"text-align: right;\">\n",
       "      <th></th>\n",
       "      <th>Bankrupt?</th>\n",
       "      <th>ROA(C) before interest and depreciation before interest</th>\n",
       "      <th>ROA(A) before interest and % after tax</th>\n",
       "      <th>ROA(B) before interest and depreciation after tax</th>\n",
       "      <th>Operating Gross Margin</th>\n",
       "      <th>Realized Sales Gross Margin</th>\n",
       "      <th>Operating Profit Rate</th>\n",
       "      <th>Pre-tax net Interest Rate</th>\n",
       "      <th>After-tax net Interest Rate</th>\n",
       "      <th>Non-industry income and expenditure/revenue</th>\n",
       "      <th>Continuous interest rate (after tax)</th>\n",
       "      <th>Operating Expense Rate</th>\n",
       "      <th>Research and development expense rate</th>\n",
       "      <th>Cash flow rate</th>\n",
       "      <th>Interest-bearing debt interest rate</th>\n",
       "      <th>Tax rate (A)</th>\n",
       "      <th>Net Value Per Share (B)</th>\n",
       "      <th>Net Value Per Share (A)</th>\n",
       "      <th>Net Value Per Share (C)</th>\n",
       "      <th>Persistent EPS in the Last Four Seasons</th>\n",
       "      <th>Cash Flow Per Share</th>\n",
       "      <th>Revenue Per Share (Yuan ¥)</th>\n",
       "      <th>Operating Profit Per Share (Yuan ¥)</th>\n",
       "      <th>Per Share Net profit before tax (Yuan ¥)</th>\n",
       "      <th>Realized Sales Gross Profit Growth Rate</th>\n",
       "      <th>Operating Profit Growth Rate</th>\n",
       "      <th>After-tax Net Profit Growth Rate</th>\n",
       "      <th>Regular Net Profit Growth Rate</th>\n",
       "      <th>Continuous Net Profit Growth Rate</th>\n",
       "      <th>Total Asset Growth Rate</th>\n",
       "      <th>Net Value Growth Rate</th>\n",
       "      <th>Total Asset Return Growth Rate Ratio</th>\n",
       "      <th>Cash Reinvestment %</th>\n",
       "      <th>Current Ratio</th>\n",
       "      <th>Quick Ratio</th>\n",
       "      <th>Interest Expense Ratio</th>\n",
       "      <th>Total debt/Total net worth</th>\n",
       "      <th>Debt ratio %</th>\n",
       "      <th>Net worth/Assets</th>\n",
       "      <th>Long-term fund suitability ratio (A)</th>\n",
       "      <th>Borrowing dependency</th>\n",
       "      <th>Contingent liabilities/Net worth</th>\n",
       "      <th>Operating profit/Paid-in capital</th>\n",
       "      <th>Net profit before tax/Paid-in capital</th>\n",
       "      <th>Inventory and accounts receivable/Net value</th>\n",
       "      <th>Total Asset Turnover</th>\n",
       "      <th>Accounts Receivable Turnover</th>\n",
       "      <th>Average Collection Days</th>\n",
       "      <th>Inventory Turnover Rate (times)</th>\n",
       "      <th>Fixed Assets Turnover Frequency</th>\n",
       "      <th>Net Worth Turnover Rate (times)</th>\n",
       "      <th>Revenue per person</th>\n",
       "      <th>Operating profit per person</th>\n",
       "      <th>Allocation rate per person</th>\n",
       "      <th>Working Capital to Total Assets</th>\n",
       "      <th>Quick Assets/Total Assets</th>\n",
       "      <th>Current Assets/Total Assets</th>\n",
       "      <th>Cash/Total Assets</th>\n",
       "      <th>Quick Assets/Current Liability</th>\n",
       "      <th>Cash/Current Liability</th>\n",
       "      <th>Current Liability to Assets</th>\n",
       "      <th>Operating Funds to Liability</th>\n",
       "      <th>Inventory/Working Capital</th>\n",
       "      <th>Inventory/Current Liability</th>\n",
       "      <th>Current Liabilities/Liability</th>\n",
       "      <th>Working Capital/Equity</th>\n",
       "      <th>Current Liabilities/Equity</th>\n",
       "      <th>Long-term Liability to Current Assets</th>\n",
       "      <th>Retained Earnings to Total Assets</th>\n",
       "      <th>Total income/Total expense</th>\n",
       "      <th>Total expense/Assets</th>\n",
       "      <th>Current Asset Turnover Rate</th>\n",
       "      <th>Quick Asset Turnover Rate</th>\n",
       "      <th>Working capitcal Turnover Rate</th>\n",
       "      <th>Cash Turnover Rate</th>\n",
       "      <th>Cash Flow to Sales</th>\n",
       "      <th>Fixed Assets to Assets</th>\n",
       "      <th>Current Liability to Liability</th>\n",
       "      <th>Current Liability to Equity</th>\n",
       "      <th>Equity to Long-term Liability</th>\n",
       "      <th>Cash Flow to Total Assets</th>\n",
       "      <th>Cash Flow to Liability</th>\n",
       "      <th>CFO to Assets</th>\n",
       "      <th>Cash Flow to Equity</th>\n",
       "      <th>Current Liability to Current Assets</th>\n",
       "      <th>Liability-Assets Flag</th>\n",
       "      <th>Net Income to Total Assets</th>\n",
       "      <th>Total assets to GNP price</th>\n",
       "      <th>No-credit Interval</th>\n",
       "      <th>Gross Profit to Sales</th>\n",
       "      <th>Net Income to Stockholder's Equity</th>\n",
       "      <th>Liability to Equity</th>\n",
       "      <th>Degree of Financial Leverage (DFL)</th>\n",
       "      <th>Interest Coverage Ratio (Interest expense to EBIT)</th>\n",
       "      <th>Net Income Flag</th>\n",
       "      <th>Equity to Liability</th>\n",
       "    </tr>\n",
       "  </thead>\n",
       "  <tbody>\n",
       "    <tr>\n",
       "      <th>6818</th>\n",
       "      <td>0</td>\n",
       "      <td>0.493053</td>\n",
       "      <td>0.570105</td>\n",
       "      <td>0.549548</td>\n",
       "      <td>0.627409</td>\n",
       "      <td>0.627409</td>\n",
       "      <td>0.99808</td>\n",
       "      <td>0.801987</td>\n",
       "      <td>0.8138</td>\n",
       "      <td>0.313415</td>\n",
       "      <td>0.786079</td>\n",
       "      <td>0.001432</td>\n",
       "      <td>0.0</td>\n",
       "      <td>0.427721</td>\n",
       "      <td>590000000.0</td>\n",
       "      <td>0.0</td>\n",
       "      <td>0.220766</td>\n",
       "      <td>0.220766</td>\n",
       "      <td>0.220766</td>\n",
       "      <td>0.227758</td>\n",
       "      <td>0.305793</td>\n",
       "      <td>0.000665</td>\n",
       "      <td>0.092501</td>\n",
       "      <td>0.182119</td>\n",
       "      <td>0.025316</td>\n",
       "      <td>0.848053</td>\n",
       "      <td>0.689527</td>\n",
       "      <td>0.689527</td>\n",
       "      <td>0.217605</td>\n",
       "      <td>9.350000e+09</td>\n",
       "      <td>0.000519</td>\n",
       "      <td>0.264186</td>\n",
       "      <td>0.360102</td>\n",
       "      <td>0.051348</td>\n",
       "      <td>0.040897</td>\n",
       "      <td>0.630618</td>\n",
       "      <td>0.000461</td>\n",
       "      <td>0.014149</td>\n",
       "      <td>0.985851</td>\n",
       "      <td>0.058476</td>\n",
       "      <td>0.370049</td>\n",
       "      <td>0.006368</td>\n",
       "      <td>0.092465</td>\n",
       "      <td>0.179911</td>\n",
       "      <td>0.393883</td>\n",
       "      <td>0.002999</td>\n",
       "      <td>0.000325</td>\n",
       "      <td>0.019474</td>\n",
       "      <td>19100000.0</td>\n",
       "      <td>0.0003</td>\n",
       "      <td>0.009194</td>\n",
       "      <td>0.002097</td>\n",
       "      <td>0.385767</td>\n",
       "      <td>0.000963</td>\n",
       "      <td>0.873759</td>\n",
       "      <td>0.527136</td>\n",
       "      <td>0.50501</td>\n",
       "      <td>0.238147</td>\n",
       "      <td>0.051481</td>\n",
       "      <td>0.066674</td>\n",
       "      <td>0.018517</td>\n",
       "      <td>0.239585</td>\n",
       "      <td>0.276975</td>\n",
       "      <td>0.0</td>\n",
       "      <td>1.0</td>\n",
       "      <td>0.737286</td>\n",
       "      <td>0.32669</td>\n",
       "      <td>0.0</td>\n",
       "      <td>0.938005</td>\n",
       "      <td>0.002791</td>\n",
       "      <td>0.006089</td>\n",
       "      <td>0.007864</td>\n",
       "      <td>0.008238</td>\n",
       "      <td>0.598674</td>\n",
       "      <td>0.009506</td>\n",
       "      <td>0.672096</td>\n",
       "      <td>0.005016</td>\n",
       "      <td>1.0</td>\n",
       "      <td>0.32669</td>\n",
       "      <td>0.110933</td>\n",
       "      <td>0.659917</td>\n",
       "      <td>0.483285</td>\n",
       "      <td>0.505531</td>\n",
       "      <td>0.316238</td>\n",
       "      <td>0.005579</td>\n",
       "      <td>0</td>\n",
       "      <td>0.815956</td>\n",
       "      <td>0.000707</td>\n",
       "      <td>0.62668</td>\n",
       "      <td>0.627408</td>\n",
       "      <td>0.841019</td>\n",
       "      <td>0.275114</td>\n",
       "      <td>0.026793</td>\n",
       "      <td>0.565167</td>\n",
       "      <td>1</td>\n",
       "      <td>0.233902</td>\n",
       "    </tr>\n",
       "  </tbody>\n",
       "</table>\n",
       "</div>"
      ],
      "text/plain": [
       "      Bankrupt?   ROA(C) before interest and depreciation before interest  \\\n",
       "6818          0                                           0.493053          \n",
       "\n",
       "       ROA(A) before interest and % after tax  \\\n",
       "6818                                 0.570105   \n",
       "\n",
       "       ROA(B) before interest and depreciation after tax  \\\n",
       "6818                                           0.549548    \n",
       "\n",
       "       Operating Gross Margin   Realized Sales Gross Margin  \\\n",
       "6818                 0.627409                      0.627409   \n",
       "\n",
       "       Operating Profit Rate   Pre-tax net Interest Rate  \\\n",
       "6818                 0.99808                    0.801987   \n",
       "\n",
       "       After-tax net Interest Rate  \\\n",
       "6818                        0.8138   \n",
       "\n",
       "       Non-industry income and expenditure/revenue  \\\n",
       "6818                                      0.313415   \n",
       "\n",
       "       Continuous interest rate (after tax)   Operating Expense Rate  \\\n",
       "6818                               0.786079                 0.001432   \n",
       "\n",
       "       Research and development expense rate   Cash flow rate  \\\n",
       "6818                                     0.0         0.427721   \n",
       "\n",
       "       Interest-bearing debt interest rate   Tax rate (A)  \\\n",
       "6818                           590000000.0            0.0   \n",
       "\n",
       "       Net Value Per Share (B)   Net Value Per Share (A)  \\\n",
       "6818                  0.220766                  0.220766   \n",
       "\n",
       "       Net Value Per Share (C)   Persistent EPS in the Last Four Seasons  \\\n",
       "6818                  0.220766                                  0.227758   \n",
       "\n",
       "       Cash Flow Per Share   Revenue Per Share (Yuan ¥)  \\\n",
       "6818              0.305793                     0.000665   \n",
       "\n",
       "       Operating Profit Per Share (Yuan ¥)  \\\n",
       "6818                              0.092501   \n",
       "\n",
       "       Per Share Net profit before tax (Yuan ¥)  \\\n",
       "6818                                   0.182119   \n",
       "\n",
       "       Realized Sales Gross Profit Growth Rate   Operating Profit Growth Rate  \\\n",
       "6818                                  0.025316                       0.848053   \n",
       "\n",
       "       After-tax Net Profit Growth Rate   Regular Net Profit Growth Rate  \\\n",
       "6818                           0.689527                         0.689527   \n",
       "\n",
       "       Continuous Net Profit Growth Rate   Total Asset Growth Rate  \\\n",
       "6818                            0.217605              9.350000e+09   \n",
       "\n",
       "       Net Value Growth Rate   Total Asset Return Growth Rate Ratio  \\\n",
       "6818                0.000519                               0.264186   \n",
       "\n",
       "       Cash Reinvestment %   Current Ratio   Quick Ratio  \\\n",
       "6818              0.360102        0.051348      0.040897   \n",
       "\n",
       "       Interest Expense Ratio   Total debt/Total net worth   Debt ratio %  \\\n",
       "6818                 0.630618                     0.000461       0.014149   \n",
       "\n",
       "       Net worth/Assets   Long-term fund suitability ratio (A)  \\\n",
       "6818           0.985851                               0.058476   \n",
       "\n",
       "       Borrowing dependency   Contingent liabilities/Net worth  \\\n",
       "6818               0.370049                           0.006368   \n",
       "\n",
       "       Operating profit/Paid-in capital  \\\n",
       "6818                           0.092465   \n",
       "\n",
       "       Net profit before tax/Paid-in capital  \\\n",
       "6818                                0.179911   \n",
       "\n",
       "       Inventory and accounts receivable/Net value   Total Asset Turnover  \\\n",
       "6818                                      0.393883               0.002999   \n",
       "\n",
       "       Accounts Receivable Turnover   Average Collection Days  \\\n",
       "6818                       0.000325                  0.019474   \n",
       "\n",
       "       Inventory Turnover Rate (times)   Fixed Assets Turnover Frequency  \\\n",
       "6818                        19100000.0                            0.0003   \n",
       "\n",
       "       Net Worth Turnover Rate (times)   Revenue per person  \\\n",
       "6818                          0.009194             0.002097   \n",
       "\n",
       "       Operating profit per person   Allocation rate per person  \\\n",
       "6818                      0.385767                     0.000963   \n",
       "\n",
       "       Working Capital to Total Assets   Quick Assets/Total Assets  \\\n",
       "6818                          0.873759                    0.527136   \n",
       "\n",
       "       Current Assets/Total Assets   Cash/Total Assets  \\\n",
       "6818                       0.50501            0.238147   \n",
       "\n",
       "       Quick Assets/Current Liability   Cash/Current Liability  \\\n",
       "6818                         0.051481                 0.066674   \n",
       "\n",
       "       Current Liability to Assets   Operating Funds to Liability  \\\n",
       "6818                      0.018517                       0.239585   \n",
       "\n",
       "       Inventory/Working Capital   Inventory/Current Liability  \\\n",
       "6818                    0.276975                           0.0   \n",
       "\n",
       "       Current Liabilities/Liability   Working Capital/Equity  \\\n",
       "6818                             1.0                 0.737286   \n",
       "\n",
       "       Current Liabilities/Equity   Long-term Liability to Current Assets  \\\n",
       "6818                      0.32669                                     0.0   \n",
       "\n",
       "       Retained Earnings to Total Assets   Total income/Total expense  \\\n",
       "6818                            0.938005                     0.002791   \n",
       "\n",
       "       Total expense/Assets   Current Asset Turnover Rate  \\\n",
       "6818               0.006089                      0.007864   \n",
       "\n",
       "       Quick Asset Turnover Rate   Working capitcal Turnover Rate  \\\n",
       "6818                    0.008238                         0.598674   \n",
       "\n",
       "       Cash Turnover Rate   Cash Flow to Sales   Fixed Assets to Assets  \\\n",
       "6818             0.009506             0.672096                 0.005016   \n",
       "\n",
       "       Current Liability to Liability   Current Liability to Equity  \\\n",
       "6818                              1.0                       0.32669   \n",
       "\n",
       "       Equity to Long-term Liability   Cash Flow to Total Assets  \\\n",
       "6818                        0.110933                    0.659917   \n",
       "\n",
       "       Cash Flow to Liability   CFO to Assets   Cash Flow to Equity  \\\n",
       "6818                 0.483285        0.505531              0.316238   \n",
       "\n",
       "       Current Liability to Current Assets   Liability-Assets Flag  \\\n",
       "6818                              0.005579                       0   \n",
       "\n",
       "       Net Income to Total Assets   Total assets to GNP price  \\\n",
       "6818                     0.815956                    0.000707   \n",
       "\n",
       "       No-credit Interval   Gross Profit to Sales  \\\n",
       "6818              0.62668                0.627408   \n",
       "\n",
       "       Net Income to Stockholder's Equity   Liability to Equity  \\\n",
       "6818                             0.841019              0.275114   \n",
       "\n",
       "       Degree of Financial Leverage (DFL)  \\\n",
       "6818                             0.026793   \n",
       "\n",
       "       Interest Coverage Ratio (Interest expense to EBIT)   Net Income Flag  \\\n",
       "6818                                           0.565167                   1   \n",
       "\n",
       "       Equity to Liability  \n",
       "6818              0.233902  "
      ]
     },
     "execution_count": 12,
     "metadata": {},
     "output_type": "execute_result"
    }
   ],
   "source": [
    "print('Bankruptcy 데이터 세트 크기 :\\n', \n",
    "      '(1) row 갯수 :', Bankruptcy_org_df.shape[0], '\\n',\n",
    "      '(2) features 갯수 :', Bankruptcy_org_df.shape[1])\n",
    "\n",
    "\n",
    "# 모든 컬럼을 보디 위한 설정\n",
    "pd.set_option('display.max_columns', None)\n",
    "\n",
    "Bankruptcy_org_df = pd.read_csv('data.csv')\n",
    "Bankruptcy_org_df.tail(1)"
   ]
  },
  {
   "attachments": {},
   "cell_type": "markdown",
   "metadata": {},
   "source": [
    "# **4. 범주형과 연속형 변수 나누기**"
   ]
  },
  {
   "cell_type": "code",
   "execution_count": 13,
   "metadata": {},
   "outputs": [],
   "source": [
    "Bankruptcy_org_df.columns.tolist()\n",
    "\n",
    "# 컬럼명 앞에 공백 지우기\n",
    "Bankruptcy_org_df.columns = Bankruptcy_org_df.columns.str.strip()"
   ]
  },
  {
   "cell_type": "code",
   "execution_count": 14,
   "metadata": {},
   "outputs": [
    {
     "name": "stdout",
     "output_type": "stream",
     "text": [
      "범주형 피처의 갯수 :  2 개\n",
      "연속형 피처의 갯수 :  93 개\n"
     ]
    }
   ],
   "source": [
    "# 카테고리형 변수\n",
    "categorical_vars = ['Liability-Assets Flag', 'Net Income Flag']\n",
    "\n",
    "\n",
    "# 연속형 변수\n",
    "continuous_vars = [\n",
    "    col \n",
    "    for col in Bankruptcy_org_df.columns \n",
    "    if col not in categorical_vars and col != 'Bankrupt?']\n",
    "\n",
    "\n",
    "categorical = Bankruptcy_org_df[categorical_vars]\n",
    "print('범주형 피처의 갯수 : ', categorical.shape[1], '개')\n",
    "\n",
    "continuous = Bankruptcy_org_df[continuous_vars] \n",
    "print('연속형 피처의 갯수 : ', continuous.shape[1], '개')"
   ]
  },
  {
   "attachments": {},
   "cell_type": "markdown",
   "metadata": {},
   "source": [
    "# **5. 피처 엔지니어링(Feature Engineering)**"
   ]
  },
  {
   "attachments": {},
   "cell_type": "markdown",
   "metadata": {},
   "source": [
    "### **~~1) Oversampling - 타겟 불균형 처리~~**\n",
    "- 학습 데이터에 대해서만\n",
    "- 주의 : imblearn 의 pipline을 써야함. (사이킷런의 pipline을 쓰면 잘못된 것.)\n",
    "- pipline 안에 oversample = SMOTE()"
   ]
  },
  {
   "cell_type": "code",
   "execution_count": 66,
   "metadata": {},
   "outputs": [],
   "source": [
    "# y_target = Bankruptcy_org_df['Bankrupt?']\n",
    "# X_features = Bankruptcy_org_df.drop(columns=['Bankrupt?'], axis=1)"
   ]
  },
  {
   "cell_type": "code",
   "execution_count": 67,
   "metadata": {},
   "outputs": [],
   "source": [
    "# X_train, X_test, y_train, y_test = train_test_split(X_features, y_target, test_size=0.2, stratify=y_target)"
   ]
  },
  {
   "cell_type": "code",
   "execution_count": 69,
   "metadata": {},
   "outputs": [],
   "source": [
    "# pipeline = imbpipeline(steps = [['smote', SMOTE(random_state=42)],\n",
    "#                                 ['scaler', StandardScaler()],\n",
    "#                                 ['classifier', LGBMClassifier(n_estimators=300, learning_rate=0.1, max_depth=6, num_leaves=31, random_state=42)]])"
   ]
  },
  {
   "cell_type": "code",
   "execution_count": 70,
   "metadata": {},
   "outputs": [
    {
     "data": {
      "text/plain": [
       "{'memory': None,\n",
       " 'steps': [['smote', SMOTE(random_state=42)],\n",
       "  ['scaler', StandardScaler()],\n",
       "  ['classifier',\n",
       "   LGBMClassifier(max_depth=6, n_estimators=300, random_state=42)]],\n",
       " 'verbose': False,\n",
       " 'smote': SMOTE(random_state=42),\n",
       " 'scaler': StandardScaler(),\n",
       " 'classifier': LGBMClassifier(max_depth=6, n_estimators=300, random_state=42),\n",
       " 'smote__k_neighbors': 5,\n",
       " 'smote__n_jobs': None,\n",
       " 'smote__random_state': 42,\n",
       " 'smote__sampling_strategy': 'auto',\n",
       " 'scaler__copy': True,\n",
       " 'scaler__with_mean': True,\n",
       " 'scaler__with_std': True,\n",
       " 'classifier__boosting_type': 'gbdt',\n",
       " 'classifier__class_weight': None,\n",
       " 'classifier__colsample_bytree': 1.0,\n",
       " 'classifier__importance_type': 'split',\n",
       " 'classifier__learning_rate': 0.1,\n",
       " 'classifier__max_depth': 6,\n",
       " 'classifier__min_child_samples': 20,\n",
       " 'classifier__min_child_weight': 0.001,\n",
       " 'classifier__min_split_gain': 0.0,\n",
       " 'classifier__n_estimators': 300,\n",
       " 'classifier__n_jobs': -1,\n",
       " 'classifier__num_leaves': 31,\n",
       " 'classifier__objective': None,\n",
       " 'classifier__random_state': 42,\n",
       " 'classifier__reg_alpha': 0.0,\n",
       " 'classifier__reg_lambda': 0.0,\n",
       " 'classifier__silent': 'warn',\n",
       " 'classifier__subsample': 1.0,\n",
       " 'classifier__subsample_for_bin': 200000,\n",
       " 'classifier__subsample_freq': 0}"
      ]
     },
     "execution_count": 70,
     "metadata": {},
     "output_type": "execute_result"
    }
   ],
   "source": [
    "# pipeline.get_params()"
   ]
  },
  {
   "cell_type": "code",
   "execution_count": 72,
   "metadata": {},
   "outputs": [
    {
     "data": {
      "text/html": [
       "<style>#sk-container-id-1 {color: black;background-color: white;}#sk-container-id-1 pre{padding: 0;}#sk-container-id-1 div.sk-toggleable {background-color: white;}#sk-container-id-1 label.sk-toggleable__label {cursor: pointer;display: block;width: 100%;margin-bottom: 0;padding: 0.3em;box-sizing: border-box;text-align: center;}#sk-container-id-1 label.sk-toggleable__label-arrow:before {content: \"▸\";float: left;margin-right: 0.25em;color: #696969;}#sk-container-id-1 label.sk-toggleable__label-arrow:hover:before {color: black;}#sk-container-id-1 div.sk-estimator:hover label.sk-toggleable__label-arrow:before {color: black;}#sk-container-id-1 div.sk-toggleable__content {max-height: 0;max-width: 0;overflow: hidden;text-align: left;background-color: #f0f8ff;}#sk-container-id-1 div.sk-toggleable__content pre {margin: 0.2em;color: black;border-radius: 0.25em;background-color: #f0f8ff;}#sk-container-id-1 input.sk-toggleable__control:checked~div.sk-toggleable__content {max-height: 200px;max-width: 100%;overflow: auto;}#sk-container-id-1 input.sk-toggleable__control:checked~label.sk-toggleable__label-arrow:before {content: \"▾\";}#sk-container-id-1 div.sk-estimator input.sk-toggleable__control:checked~label.sk-toggleable__label {background-color: #d4ebff;}#sk-container-id-1 div.sk-label input.sk-toggleable__control:checked~label.sk-toggleable__label {background-color: #d4ebff;}#sk-container-id-1 input.sk-hidden--visually {border: 0;clip: rect(1px 1px 1px 1px);clip: rect(1px, 1px, 1px, 1px);height: 1px;margin: -1px;overflow: hidden;padding: 0;position: absolute;width: 1px;}#sk-container-id-1 div.sk-estimator {font-family: monospace;background-color: #f0f8ff;border: 1px dotted black;border-radius: 0.25em;box-sizing: border-box;margin-bottom: 0.5em;}#sk-container-id-1 div.sk-estimator:hover {background-color: #d4ebff;}#sk-container-id-1 div.sk-parallel-item::after {content: \"\";width: 100%;border-bottom: 1px solid gray;flex-grow: 1;}#sk-container-id-1 div.sk-label:hover label.sk-toggleable__label {background-color: #d4ebff;}#sk-container-id-1 div.sk-serial::before {content: \"\";position: absolute;border-left: 1px solid gray;box-sizing: border-box;top: 0;bottom: 0;left: 50%;z-index: 0;}#sk-container-id-1 div.sk-serial {display: flex;flex-direction: column;align-items: center;background-color: white;padding-right: 0.2em;padding-left: 0.2em;position: relative;}#sk-container-id-1 div.sk-item {position: relative;z-index: 1;}#sk-container-id-1 div.sk-parallel {display: flex;align-items: stretch;justify-content: center;background-color: white;position: relative;}#sk-container-id-1 div.sk-item::before, #sk-container-id-1 div.sk-parallel-item::before {content: \"\";position: absolute;border-left: 1px solid gray;box-sizing: border-box;top: 0;bottom: 0;left: 50%;z-index: -1;}#sk-container-id-1 div.sk-parallel-item {display: flex;flex-direction: column;z-index: 1;position: relative;background-color: white;}#sk-container-id-1 div.sk-parallel-item:first-child::after {align-self: flex-end;width: 50%;}#sk-container-id-1 div.sk-parallel-item:last-child::after {align-self: flex-start;width: 50%;}#sk-container-id-1 div.sk-parallel-item:only-child::after {width: 0;}#sk-container-id-1 div.sk-dashed-wrapped {border: 1px dashed gray;margin: 0 0.4em 0.5em 0.4em;box-sizing: border-box;padding-bottom: 0.4em;background-color: white;}#sk-container-id-1 div.sk-label label {font-family: monospace;font-weight: bold;display: inline-block;line-height: 1.2em;}#sk-container-id-1 div.sk-label-container {text-align: center;}#sk-container-id-1 div.sk-container {/* jupyter's `normalize.less` sets `[hidden] { display: none; }` but bootstrap.min.css set `[hidden] { display: none !important; }` so we also need the `!important` here to be able to override the default hidden behavior on the sphinx rendered scikit-learn.org. See: https://github.com/scikit-learn/scikit-learn/issues/21755 */display: inline-block !important;position: relative;}#sk-container-id-1 div.sk-text-repr-fallback {display: none;}</style><div id=\"sk-container-id-1\" class=\"sk-top-container\"><div class=\"sk-text-repr-fallback\"><pre>GridSearchCV(cv=StratifiedKFold(n_splits=3, random_state=42, shuffle=True),\n",
       "             estimator=Pipeline(steps=[[&#x27;smote&#x27;, SMOTE(random_state=42)],\n",
       "                                       [&#x27;scaler&#x27;, StandardScaler()],\n",
       "                                       [&#x27;classifier&#x27;,\n",
       "                                        LGBMClassifier(max_depth=6,\n",
       "                                                       n_estimators=300,\n",
       "                                                       random_state=42)]]),\n",
       "             n_jobs=-1,\n",
       "             param_grid={&#x27;classifier__learning_rate&#x27;: [0.1],\n",
       "                         &#x27;classifier__max_depth&#x27;: [6],\n",
       "                         &#x27;classifier__n_estimators&#x27;: [300],\n",
       "                         &#x27;classifier__num_leaves&#x27;: [31]},\n",
       "             scoring=&#x27;roc_auc&#x27;)</pre><b>In a Jupyter environment, please rerun this cell to show the HTML representation or trust the notebook. <br />On GitHub, the HTML representation is unable to render, please try loading this page with nbviewer.org.</b></div><div class=\"sk-container\" hidden><div class=\"sk-item sk-dashed-wrapped\"><div class=\"sk-label-container\"><div class=\"sk-label sk-toggleable\"><input class=\"sk-toggleable__control sk-hidden--visually\" id=\"sk-estimator-id-1\" type=\"checkbox\" ><label for=\"sk-estimator-id-1\" class=\"sk-toggleable__label sk-toggleable__label-arrow\">GridSearchCV</label><div class=\"sk-toggleable__content\"><pre>GridSearchCV(cv=StratifiedKFold(n_splits=3, random_state=42, shuffle=True),\n",
       "             estimator=Pipeline(steps=[[&#x27;smote&#x27;, SMOTE(random_state=42)],\n",
       "                                       [&#x27;scaler&#x27;, StandardScaler()],\n",
       "                                       [&#x27;classifier&#x27;,\n",
       "                                        LGBMClassifier(max_depth=6,\n",
       "                                                       n_estimators=300,\n",
       "                                                       random_state=42)]]),\n",
       "             n_jobs=-1,\n",
       "             param_grid={&#x27;classifier__learning_rate&#x27;: [0.1],\n",
       "                         &#x27;classifier__max_depth&#x27;: [6],\n",
       "                         &#x27;classifier__n_estimators&#x27;: [300],\n",
       "                         &#x27;classifier__num_leaves&#x27;: [31]},\n",
       "             scoring=&#x27;roc_auc&#x27;)</pre></div></div></div><div class=\"sk-parallel\"><div class=\"sk-parallel-item\"><div class=\"sk-item\"><div class=\"sk-label-container\"><div class=\"sk-label sk-toggleable\"><input class=\"sk-toggleable__control sk-hidden--visually\" id=\"sk-estimator-id-2\" type=\"checkbox\" ><label for=\"sk-estimator-id-2\" class=\"sk-toggleable__label sk-toggleable__label-arrow\">estimator: Pipeline</label><div class=\"sk-toggleable__content\"><pre>Pipeline(steps=[[&#x27;smote&#x27;, SMOTE(random_state=42)], [&#x27;scaler&#x27;, StandardScaler()],\n",
       "                [&#x27;classifier&#x27;,\n",
       "                 LGBMClassifier(max_depth=6, n_estimators=300,\n",
       "                                random_state=42)]])</pre></div></div></div><div class=\"sk-serial\"><div class=\"sk-item\"><div class=\"sk-serial\"><div class=\"sk-item\"><div class=\"sk-estimator sk-toggleable\"><input class=\"sk-toggleable__control sk-hidden--visually\" id=\"sk-estimator-id-3\" type=\"checkbox\" ><label for=\"sk-estimator-id-3\" class=\"sk-toggleable__label sk-toggleable__label-arrow\">SMOTE</label><div class=\"sk-toggleable__content\"><pre>SMOTE(random_state=42)</pre></div></div></div><div class=\"sk-item\"><div class=\"sk-estimator sk-toggleable\"><input class=\"sk-toggleable__control sk-hidden--visually\" id=\"sk-estimator-id-4\" type=\"checkbox\" ><label for=\"sk-estimator-id-4\" class=\"sk-toggleable__label sk-toggleable__label-arrow\">StandardScaler</label><div class=\"sk-toggleable__content\"><pre>StandardScaler()</pre></div></div></div><div class=\"sk-item\"><div class=\"sk-estimator sk-toggleable\"><input class=\"sk-toggleable__control sk-hidden--visually\" id=\"sk-estimator-id-5\" type=\"checkbox\" ><label for=\"sk-estimator-id-5\" class=\"sk-toggleable__label sk-toggleable__label-arrow\">LGBMClassifier</label><div class=\"sk-toggleable__content\"><pre>LGBMClassifier(max_depth=6, n_estimators=300, random_state=42)</pre></div></div></div></div></div></div></div></div></div></div></div></div>"
      ],
      "text/plain": [
       "GridSearchCV(cv=StratifiedKFold(n_splits=3, random_state=42, shuffle=True),\n",
       "             estimator=Pipeline(steps=[['smote', SMOTE(random_state=42)],\n",
       "                                       ['scaler', StandardScaler()],\n",
       "                                       ['classifier',\n",
       "                                        LGBMClassifier(max_depth=6,\n",
       "                                                       n_estimators=300,\n",
       "                                                       random_state=42)]]),\n",
       "             n_jobs=-1,\n",
       "             param_grid={'classifier__learning_rate': [0.1],\n",
       "                         'classifier__max_depth': [6],\n",
       "                         'classifier__n_estimators': [300],\n",
       "                         'classifier__num_leaves': [31]},\n",
       "             scoring='roc_auc')"
      ]
     },
     "execution_count": 72,
     "metadata": {},
     "output_type": "execute_result"
    }
   ],
   "source": [
    "# stratified_kfold = StratifiedKFold(n_splits=3, shuffle=True, random_state=42)\n",
    "# param_grid = {'classifier__n_estimators': [300], \n",
    "#               'classifier__learning_rate' : [0.1],\n",
    "#               'classifier__max_depth' : [6],\n",
    "#               'classifier__num_leaves' : [31],}\n",
    "# grid_search = GridSearchCV(estimator=pipeline, param_grid=param_grid, scoring='roc_auc', cv=stratified_kfold, n_jobs=-1)\n",
    "# grid_search.fit(X_train, y_train)"
   ]
  },
  {
   "cell_type": "code",
   "execution_count": 73,
   "metadata": {},
   "outputs": [
    {
     "name": "stdout",
     "output_type": "stream",
     "text": [
      "Cross-validation score: 0.9280855857969926\n"
     ]
    }
   ],
   "source": [
    "# cv_score = grid_search.best_score_\n",
    "# print(f'Cross-validation score: {cv_score}')"
   ]
  },
  {
   "cell_type": "code",
   "execution_count": null,
   "metadata": {},
   "outputs": [],
   "source": [
    "# cv_accuracy_score = grid_search.best_score_\n",
    "# print('1. Accuracy(정확도) : {cv_accuracy_score}')\n",
    "# print('===' * 50)\n",
    "# cv_precision_score = grid_search.best_score_\n",
    "# print('2. Precision(정밀도) : {0:.4f}'.format(precision_score(y_val, pred)))\n",
    "# print('===' * 50)\n",
    "# print('3. Recall(재현율): {0:.4f}'.format(recall_score(y_val, pred)))\n",
    "# print('===' * 50)\n",
    "# print('4. F1 Score : {0:.4f}'.format(f1_score(y_val, pred)))\n",
    "# print('===' * 50)\n",
    "# print('5. ROC-AUC Score : {0:.4f}'.format(roc_auc_score(y_val, pred)))"
   ]
  },
  {
   "cell_type": "code",
   "execution_count": 74,
   "metadata": {},
   "outputs": [
    {
     "name": "stdout",
     "output_type": "stream",
     "text": [
      "Test score: 0.921659779614325\n"
     ]
    }
   ],
   "source": [
    "# test_score = grid_search.score(X_test, y_test)\n",
    "# print(f'Test score: {test_score}')"
   ]
  },
  {
   "attachments": {},
   "cell_type": "markdown",
   "metadata": {},
   "source": [
    "### **2) 연속형 피처의 불균형 --> 스케일링 (StandardScaler)**"
   ]
  },
  {
   "cell_type": "code",
   "execution_count": 15,
   "metadata": {},
   "outputs": [],
   "source": [
    "# 연속형 피처의 이름만 가져오기\n",
    "continuous_features_name = continuous.columns"
   ]
  },
  {
   "cell_type": "code",
   "execution_count": 17,
   "metadata": {},
   "outputs": [],
   "source": [
    "scaler = StandardScaler()\n",
    "\n",
    "Bankruptcy_new_df = Bankruptcy_org_df.copy()\n",
    "Bankruptcy_new_df[continuous_features_name] = scaler.fit_transform(Bankruptcy_new_df[continuous_features_name])\n",
    "\n",
    "# Bankruptcy_org_df[continuous_features_name] = Bankruptcy_org_df[continuous_features_name].apply(lambda x: (x - x.mean()) / (x.std()))\n",
    "# Bankruptcy_org_df[continuous_features_name] = Bankruptcy_org_df[continuous_features_name].fillna(0)"
   ]
  },
  {
   "cell_type": "code",
   "execution_count": 18,
   "metadata": {},
   "outputs": [],
   "source": [
    "scaler = StandardScaler()\n",
    "\n",
    "s_scaler_df = Bankruptcy_org_df.copy()\n",
    "s_scaler_df[continuous_features_name] = scaler.fit_transform(s_scaler_df[continuous_features_name])"
   ]
  },
  {
   "attachments": {},
   "cell_type": "markdown",
   "metadata": {},
   "source": [
    "# **6. 훈련 및 시험 데이터 분리**"
   ]
  },
  {
   "cell_type": "code",
   "execution_count": 19,
   "metadata": {},
   "outputs": [],
   "source": [
    "s_scaler_y_target = s_scaler_df['Bankrupt?']\n",
    "s_scaler_X_features = s_scaler_df.drop(columns=['Bankrupt?'], axis=1)"
   ]
  },
  {
   "cell_type": "code",
   "execution_count": 20,
   "metadata": {},
   "outputs": [],
   "source": [
    "s_scaler_X_train, s_scaler_X_test, s_scaler_y_train, s_scaler_y_test = train_test_split(s_scaler_X_features, s_scaler_y_target, test_size=0.2, random_state=42)"
   ]
  },
  {
   "cell_type": "code",
   "execution_count": 21,
   "metadata": {},
   "outputs": [
    {
     "name": "stdout",
     "output_type": "stream",
     "text": [
      "s스케일러 적용된 학습용 피처의 Shape : (5455, 95)\n",
      "s스케일러 적용된 시험용 피처의 Shape : (1364, 95)\n",
      "s스케일러 적용된 학습용 라벨의 Shape : (5455,)\n",
      "s스케일러 적용된 시험용 라벨의 Shape : (1364,)\n"
     ]
    }
   ],
   "source": [
    "print('s스케일러 적용된 학습용 피처의 Shape :', s_scaler_X_train.shape)\n",
    "print('s스케일러 적용된 시험용 피처의 Shape :', s_scaler_X_test.shape)\n",
    "print('s스케일러 적용된 학습용 라벨의 Shape :', s_scaler_y_train.shape)\n",
    "print('s스케일러 적용된 시험용 라벨의 Shape :', s_scaler_y_test.shape)"
   ]
  },
  {
   "attachments": {},
   "cell_type": "markdown",
   "metadata": {},
   "source": [
    "# **7. 하이퍼 파라미터 튜닝 - GridSearchCV**"
   ]
  },
  {
   "cell_type": "code",
   "execution_count": 22,
   "metadata": {},
   "outputs": [],
   "source": [
    "# 분류 모델 초기화\n",
    "lr_clf_gcv = LogisticRegression()\n",
    "rf_clf_gcv = RandomForestClassifier() \n",
    "xgb_clf_gcv = XGBClassifier()\n",
    "lgbm_clf_gcv = LGBMClassifier()"
   ]
  },
  {
   "attachments": {},
   "cell_type": "markdown",
   "metadata": {},
   "source": [
    "#### **(1) 로지스틱 회귀(LogisticRegression)모델의 튜닝**"
   ]
  },
  {
   "cell_type": "code",
   "execution_count": 23,
   "metadata": {},
   "outputs": [
    {
     "name": "stdout",
     "output_type": "stream",
     "text": [
      "lr_clf 1차 : Best Parameters: {'max_iter': 100, 'solver': 'sag'}\n",
      "lr_clf 1차 : Best Score: 0.9684692942254813\n"
     ]
    }
   ],
   "source": [
    "# lr_clf_gcv = LogisticRegression()\n",
    "\n",
    "# param_grid = {\n",
    "#     # 'penalty': ['l1', 'l2', 'elasticnet', 'none'],\n",
    "#     # 'C': [0.1, 1.0, 10.0],\n",
    "#     'solver': ['lbfgs', 'newton-cg', 'sag', 'saga', 'liblinear'],\n",
    "#     'max_iter': [100, 200, 300]\n",
    "# }\n",
    "\n",
    "# grid_search = GridSearchCV(lr_clf_gcv, param_grid, cv=5)\n",
    "\n",
    "# grid_search.fit(s_scaler_X_train, s_scaler_y_train)\n",
    "\n",
    "\n",
    "# print(\"lr_clf 1차 : Best Parameters:\", grid_search.best_params_)\n",
    "# print(\"lr_clf 1차 : Best Score:\", grid_search.best_score_)"
   ]
  },
  {
   "cell_type": "code",
   "execution_count": 73,
   "metadata": {},
   "outputs": [
    {
     "name": "stdout",
     "output_type": "stream",
     "text": [
      "lr_clf 2차 : Best Parameters: {'max_iter': 50, 'solver': 'saga'}\n",
      "lr_clf 2차 : Best Score: 0.9688359303391383\n"
     ]
    }
   ],
   "source": [
    "# lr_clf_gcv = LogisticRegression()\n",
    "\n",
    "# param_grid = {\n",
    "#     # 'penalty': ['l1', 'l2', 'elasticnet', 'none'],\n",
    "#     # 'C': [0.1, 1.0, 10.0],\n",
    "#     'solver': ['lbfgs', 'newton-cg', 'sag', 'saga', 'liblinear'],\n",
    "#     'max_iter': [50, 75, 100]\n",
    "# }\n",
    "\n",
    "# grid_search = GridSearchCV(lr_clf_gcv, param_grid, cv=5)\n",
    "# grid_search.fit(s_scaler_X_train, s_scaler_y_train)\n",
    "\n",
    "\n",
    "# print(\"lr_clf 2차 : Best Parameters:\", grid_search.best_params_)\n",
    "# print(\"lr_clf 2차 : Best Score:\", grid_search.best_score_)"
   ]
  },
  {
   "cell_type": "code",
   "execution_count": 74,
   "metadata": {},
   "outputs": [
    {
     "name": "stdout",
     "output_type": "stream",
     "text": [
      "lr_clf 3차 : Best Parameters: {'max_iter': 50, 'solver': 'saga'}\n",
      "lr_clf 3차 : Best Score: 0.9688359303391383\n"
     ]
    }
   ],
   "source": [
    "# lr_clf_gcv = LogisticRegression()\n",
    "\n",
    "# param_grid = {\n",
    "#     # 'penalty': ['l1', 'l2', 'elasticnet', 'none'],\n",
    "#     # 'C': [0.1, 1.0, 10.0],\n",
    "#     'solver': ['lbfgs', 'newton-cg', 'sag', 'saga', 'liblinear'],\n",
    "#     'max_iter': [25, 50, 75, 100]\n",
    "# }\n",
    "\n",
    "\n",
    "# grid_search = GridSearchCV(lr_clf_gcv, param_grid, cv=5)\n",
    "# grid_search.fit(s_scaler_X_train, s_scaler_y_train)\n",
    "\n",
    "\n",
    "# print(\"lr_clf 3차 : Best Parameters:\", grid_search.best_params_)\n",
    "# print(\"lr_clf 3차 : Best Score:\", grid_search.best_score_)"
   ]
  },
  {
   "cell_type": "code",
   "execution_count": 25,
   "metadata": {},
   "outputs": [
    {
     "name": "stdout",
     "output_type": "stream",
     "text": [
      "lr_clf 4차 : Best Parameters: {'C': 0.1, 'class_weight': None, 'max_iter': 100, 'penalty': 'l1', 'solver': 'saga'}\n",
      "lr_clf 4차 : Best Score: 0.9697524177926313\n"
     ]
    }
   ],
   "source": [
    "# lr_clf_gcv = LogisticRegression()\n",
    "\n",
    "# param_grid = {\n",
    "#     'C': [0.001, 0.01, 0.1, 1, 10],\n",
    "#     'penalty': ['l1', 'l2'],\n",
    "#     'solver': ['liblinear', 'saga'],\n",
    "#     'class_weight': [None, 'balanced'],\n",
    "#     'max_iter': [100, 500, 1000]\n",
    "# }\n",
    "\n",
    "\n",
    "# grid_search = GridSearchCV(lr_clf_gcv, param_grid, cv=3)\n",
    "# grid_search.fit(s_scaler_X_train, s_scaler_y_train)\n",
    "\n",
    "\n",
    "# print(\"lr_clf 4차 : Best Parameters:\", grid_search.best_params_)\n",
    "# print(\"lr_clf 4차 : Best Score:\", grid_search.best_score_)"
   ]
  },
  {
   "cell_type": "code",
   "execution_count": 26,
   "metadata": {},
   "outputs": [
    {
     "name": "stdout",
     "output_type": "stream",
     "text": [
      "lr_clf 5차 : Best Parameters: {'C': 0.07, 'class_weight': None, 'max_iter': 100, 'penalty': 'l1', 'solver': 'saga'}\n",
      "lr_clf 5차 : Best Score: 0.9701191211296317\n"
     ]
    }
   ],
   "source": [
    "# lr_clf_gcv = LogisticRegression()\n",
    "\n",
    "# param_grid = {\n",
    "#     'C': [0.05, 0.07, 0.1],\n",
    "#     'penalty': ['l1', 'l2'],\n",
    "#     'solver': ['liblinear', 'saga'],\n",
    "#     'class_weight': [None, 'balanced'],\n",
    "#     'max_iter': [100, 150, 200]\n",
    "# }\n",
    "\n",
    "\n",
    "# grid_search = GridSearchCV(lr_clf_gcv, param_grid, cv=3)\n",
    "# grid_search.fit(s_scaler_X_train, s_scaler_y_train)\n",
    "\n",
    "\n",
    "# print(\"lr_clf 5차 : Best Parameters:\", grid_search.best_params_)\n",
    "# print(\"lr_clf 5차 : Best Score:\", grid_search.best_score_)"
   ]
  },
  {
   "cell_type": "code",
   "execution_count": 28,
   "metadata": {},
   "outputs": [
    {
     "name": "stdout",
     "output_type": "stream",
     "text": [
      "lr_clf 6차 : Best Parameters: {'C': 0.07, 'class_weight': None, 'max_iter': 100, 'penalty': 'l1', 'solver': 'saga'}\n",
      "lr_clf 6차 : Best Score: 0.9701191211296317\n"
     ]
    }
   ],
   "source": [
    "lr_clf_gcv = LogisticRegression()\n",
    "\n",
    "param_grid = {\n",
    "    'C': [0.06, 0.07, 0.08],\n",
    "    'penalty': ['l1', 'l2'],\n",
    "    'solver': ['liblinear', 'saga'],\n",
    "    'class_weight': [None, 'balanced'],\n",
    "    'max_iter': [50, 70, 100]\n",
    "}\n",
    "\n",
    "grid_search = GridSearchCV(lr_clf_gcv, param_grid, cv=3)\n",
    "grid_search.fit(s_scaler_X_train, s_scaler_y_train)\n",
    "\n",
    "\n",
    "print(\"lr_clf 6차 : Best Parameters:\", grid_search.best_params_)\n",
    "print(\"lr_clf 6차 : Best Score:\", grid_search.best_score_)"
   ]
  },
  {
   "attachments": {},
   "cell_type": "markdown",
   "metadata": {},
   "source": [
    "#### **(2) 랜덤포레스트(RandomForestClassifier) 모델의 튜닝**"
   ]
  },
  {
   "cell_type": "code",
   "execution_count": 77,
   "metadata": {},
   "outputs": [
    {
     "name": "stdout",
     "output_type": "stream",
     "text": [
      "rf_clf 1차 : Best Parameters: {'max_depth': 5, 'n_estimators': 300}\n",
      "rf_clf 1차 : Best Score: 0.9710358794721327\n"
     ]
    }
   ],
   "source": [
    "# rf_clf_gcv = RandomForestClassifier() \n",
    "\n",
    "# param_grid = {\n",
    "#     'n_estimators': [100, 200, 300],\n",
    "#     'max_depth': [None, 5, 10],\n",
    "#     # 'min_samples_split': [2, 5, 10],\n",
    "#     # 'min_samples_leaf': [1, 2, 4],\n",
    "#     # 'max_features': ['auto', 'sqrt'],\n",
    "#     # 'bootstrap': [True, False]\n",
    "# }\n",
    "\n",
    "# grid_search = GridSearchCV(rf_clf_gcv, param_grid, cv=3)\n",
    "# grid_search.fit(s_scaler_X_train, s_scaler_y_train)\n",
    "\n",
    "# print(\"rf_clf 1차 : Best Parameters:\", grid_search.best_params_)\n",
    "# print(\"rf_clf 1차 : Best Score:\", grid_search.best_score_)"
   ]
  },
  {
   "cell_type": "code",
   "execution_count": 78,
   "metadata": {},
   "outputs": [
    {
     "name": "stdout",
     "output_type": "stream",
     "text": [
      "rf_clf 2차 : Best Parameters: {'max_depth': 5, 'n_estimators': 250}\n",
      "rf_clf 2차 : Best Score: 0.9704857236685736\n"
     ]
    }
   ],
   "source": [
    "# rf_clf_gcv = RandomForestClassifier() \n",
    "\n",
    "# param_grid = {\n",
    "#     'n_estimators': [250, 300, 350],\n",
    "#     'max_depth': [None, 3, 5, 7]\n",
    "#     # 'min_samples_split': [2, 5, 10],\n",
    "#     # 'min_samples_leaf': [1, 2, 4],\n",
    "#     # 'max_features': ['auto', 'sqrt'],\n",
    "#     # 'bootstrap': [True, False]\n",
    "# }\n",
    "\n",
    "# grid_search = GridSearchCV(rf_clf_gcv, param_grid, cv=3)\n",
    "# grid_search.fit(s_scaler_X_train, s_scaler_y_train)\n",
    "\n",
    "# print(\"rf_clf 2차 : Best Parameters:\", grid_search.best_params_)\n",
    "# print(\"rf_clf 2차 : Best Score:\", grid_search.best_score_)"
   ]
  },
  {
   "cell_type": "code",
   "execution_count": 81,
   "metadata": {},
   "outputs": [
    {
     "name": "stdout",
     "output_type": "stream",
     "text": [
      "rf_clf 3차 : Best Parameters: {'max_depth': 5, 'n_estimators': 150}\n",
      "rf_clf 3차 : Best Score: 0.9708527293997496\n"
     ]
    }
   ],
   "source": [
    "# rf_clf_gcv = RandomForestClassifier() \n",
    "\n",
    "# param_grid = {\n",
    "#     'n_estimators': [150, 200, 250],\n",
    "#     'max_depth': [None, 3, 4, 5, 7]\n",
    "#     # 'min_samples_split': [2, 5, 10],\n",
    "#     # 'min_samples_leaf': [1, 2, 4],\n",
    "#     # 'max_features': ['auto', 'sqrt'],\n",
    "#     # 'bootstrap': [True, False]\n",
    "# }\n",
    "\n",
    "# grid_search = GridSearchCV(rf_clf_gcv, param_grid, cv=3)\n",
    "# grid_search.fit(s_scaler_X_train, s_scaler_y_train)\n",
    "\n",
    "# print(\"rf_clf 3차 : Best Parameters:\", grid_search.best_params_)\n",
    "# print(\"rf_clf 3차 : Best Score:\", grid_search.best_score_)"
   ]
  },
  {
   "cell_type": "code",
   "execution_count": 86,
   "metadata": {},
   "outputs": [
    {
     "name": "stdout",
     "output_type": "stream",
     "text": [
      "rf_clf 4차 : Best Parameters: {'max_depth': 7, 'n_estimators': 150}\n",
      "rf_clf 4차 : Best Score: 0.9710358794721327\n"
     ]
    }
   ],
   "source": [
    "# rf_clf_gcv = RandomForestClassifier() \n",
    "\n",
    "# param_grid = {\n",
    "#     'n_estimators': [100, 125, 150],\n",
    "#     'max_depth': [4, 5, 6, 7]\n",
    "#     # 'min_samples_split': [2, 5, 10],\n",
    "#     # 'min_samples_leaf': [1, 2, 4],\n",
    "#     # 'max_features': ['auto', 'sqrt'],\n",
    "#     # 'bootstrap': [True, False]\n",
    "# }\n",
    "\n",
    "# grid_search = GridSearchCV(rf_clf_gcv, param_grid, cv=3)\n",
    "# grid_search.fit(s_scaler_X_train, s_scaler_y_train)\n",
    "\n",
    "# print(\"rf_clf 4차 : Best Parameters:\", grid_search.best_params_)\n",
    "# print(\"rf_clf 4차 : Best Score:\", grid_search.best_score_)"
   ]
  },
  {
   "cell_type": "code",
   "execution_count": 88,
   "metadata": {},
   "outputs": [
    {
     "name": "stdout",
     "output_type": "stream",
     "text": [
      "rf_clf 5차 : Best Parameters: {'max_depth': 7, 'n_estimators': 150}\n",
      "rf_clf 5차 : Best Score: 0.9704859252646907\n"
     ]
    }
   ],
   "source": [
    "rf_clf_gcv = RandomForestClassifier() \n",
    "\n",
    "param_grid = {\n",
    "    'n_estimators': [100, 125, 150],\n",
    "    'max_depth': [7, 8, 9, 10]\n",
    "    # 'min_samples_split': [2, 5, 10],\n",
    "    # 'min_samples_leaf': [1, 2, 4],\n",
    "    # 'max_features': ['auto', 'sqrt'],\n",
    "    # 'bootstrap': [True, False]\n",
    "}\n",
    "\n",
    "grid_search = GridSearchCV(rf_clf_gcv, param_grid, cv=3)\n",
    "grid_search.fit(s_scaler_X_train, s_scaler_y_train)\n",
    "\n",
    "print(\"rf_clf 5차 : Best Parameters:\", grid_search.best_params_)\n",
    "print(\"rf_clf 5차 : Best Score:\", grid_search.best_score_)"
   ]
  },
  {
   "attachments": {},
   "cell_type": "markdown",
   "metadata": {},
   "source": [
    "#### **(3) XGBClassifier 모델의 튜닝**"
   ]
  },
  {
   "cell_type": "code",
   "execution_count": 91,
   "metadata": {},
   "outputs": [
    {
     "name": "stdout",
     "output_type": "stream",
     "text": [
      "xgb_clf 1차 : Best Parameters: {'learning_rate': 0.01, 'max_depth': 3, 'n_estimators': 200}\n",
      "xgb_clf 1차 : Best Score: 0.9719526378146336\n"
     ]
    }
   ],
   "source": [
    "# xgb_clf_gcv = XGBClassifier()\n",
    "\n",
    "# param_grid = {\n",
    "#     'learning_rate': [0.1, 0.01, 0.001],\n",
    "#     'n_estimators': [100, 200, 300],\n",
    "#     'max_depth': [3, 5, 7]\n",
    "#     # 'min_child_weight': [1, 3, 5],\n",
    "#     # 'gamma': [0, 0.1, 0.2]\n",
    "# }\n",
    "\n",
    "# grid_search = GridSearchCV(xgb_clf_gcv, param_grid, cv=3)\n",
    "# grid_search.fit(s_scaler_X_train, s_scaler_y_train)\n",
    "\n",
    "# print(\"xgb_clf 1차 : Best Parameters:\", grid_search.best_params_)\n",
    "# print(\"xgb_clf 1차 : Best Score:\", grid_search.best_score_)"
   ]
  },
  {
   "cell_type": "code",
   "execution_count": 93,
   "metadata": {},
   "outputs": [
    {
     "name": "stdout",
     "output_type": "stream",
     "text": [
      "xgb_clf 2차 : Best Parameters: {'learning_rate': 0.01, 'max_depth': 3, 'n_estimators': 200}\n",
      "xgb_clf 2차 : Best Score: 0.9719526378146336\n"
     ]
    }
   ],
   "source": [
    "xgb_clf_gcv = XGBClassifier()\n",
    "\n",
    "param_grid = {\n",
    "    'learning_rate': [0.8, 0.01, 0.02],\n",
    "    'n_estimators': [150, 200, 250],\n",
    "    'max_depth': [2, 3, 4],\n",
    "    # 'min_child_weight': [1, 3, 5],\n",
    "    # 'gamma': [0, 0.1, 0.2]\n",
    "}\n",
    "\n",
    "grid_search = GridSearchCV(xgb_clf_gcv, param_grid, cv=3)\n",
    "grid_search.fit(s_scaler_X_train, s_scaler_y_train)\n",
    "\n",
    "print(\"xgb_clf 2차 : Best Parameters:\", grid_search.best_params_)\n",
    "print(\"xgb_clf 2차 : Best Score:\", grid_search.best_score_)"
   ]
  },
  {
   "attachments": {},
   "cell_type": "markdown",
   "metadata": {},
   "source": [
    "#### **(4) LGBMClassifier 모델의 튜닝**"
   ]
  },
  {
   "cell_type": "code",
   "execution_count": 94,
   "metadata": {},
   "outputs": [
    {
     "name": "stdout",
     "output_type": "stream",
     "text": [
      "lgbm_clf 1차 : Best Parameters: {'learning_rate': 0.2, 'max_depth': 5, 'n_estimators': 300, 'num_leaves': 31}\n",
      "lgbm_clf 1차 : Best Score: 0.9728689275893675\n"
     ]
    }
   ],
   "source": [
    "# lgbm_clf_gcv = LGBMClassifier()\n",
    "\n",
    "# param_grid = {\n",
    "#     'learning_rate': [0.2, 0.1, 0.01],\n",
    "#     'n_estimators': [100, 200, 300],\n",
    "#     'max_depth': [3, 5, 7],\n",
    "#     'num_leaves': [15, 31, 63]\n",
    "#     # 'min_child_samples': [10, 20, 30]\n",
    "# }\n",
    "\n",
    "# grid_search = GridSearchCV(lgbm_clf_gcv, param_grid, cv=5)\n",
    "# grid_search.fit(s_scaler_X_train, s_scaler_y_train)\n",
    "\n",
    "# print(\"lgbm_clf 1차 : Best Parameters:\", grid_search.best_params_)\n",
    "# print(\"lgbm_clf 1차 : Best Score:\", grid_search.best_score_)"
   ]
  },
  {
   "cell_type": "code",
   "execution_count": 95,
   "metadata": {},
   "outputs": [
    {
     "name": "stdout",
     "output_type": "stream",
     "text": [
      "lgbm_clf 2차 : Best Parameters: {'learning_rate': 0.1, 'max_depth': 6, 'n_estimators': 300, 'num_leaves': 31}\n",
      "lgbm_clf 2차 : Best Score: 0.9734188817598535\n"
     ]
    }
   ],
   "source": [
    "# lgbm_clf_gcv = LGBMClassifier()\n",
    "\n",
    "# param_grid = {\n",
    "#     'learning_rate': [0.2, 0.1, 0.01],\n",
    "#     'n_estimators': [200, 300, 350],\n",
    "#     'max_depth': [4, 5, 6],\n",
    "#     'num_leaves': [25, 31, 35]\n",
    "#     # 'min_child_samples': [10, 20, 30]\n",
    "# }\n",
    "\n",
    "# grid_search = GridSearchCV(lgbm_clf_gcv, param_grid, cv=5)\n",
    "# grid_search.fit(s_scaler_X_train, s_scaler_y_train)\n",
    "\n",
    "# print(\"lgbm_clf 2차 : Best Parameters:\", grid_search.best_params_)\n",
    "# print(\"lgbm_clf 2차 : Best Score:\", grid_search.best_score_)"
   ]
  },
  {
   "cell_type": "code",
   "execution_count": 96,
   "metadata": {},
   "outputs": [
    {
     "name": "stdout",
     "output_type": "stream",
     "text": [
      "lgbm_clf 3차 : Best Parameters: {'learning_rate': 0.1, 'max_depth': 6, 'n_estimators': 300, 'num_leaves': 31}\n",
      "lgbm_clf 3차 : Best Score: 0.9734188817598535\n"
     ]
    }
   ],
   "source": [
    "lgbm_clf_gcv = LGBMClassifier()\n",
    "\n",
    "param_grid = {\n",
    "    'learning_rate': [0.2, 0.1, 0.05],\n",
    "    'n_estimators': [250, 275, 300],\n",
    "    'max_depth': [5, 6, 7],\n",
    "    'num_leaves': [27, 31, 33]\n",
    "    # 'min_child_samples': [10, 20, 30]\n",
    "}\n",
    "\n",
    "grid_search = GridSearchCV(lgbm_clf_gcv, param_grid, cv=5)\n",
    "grid_search.fit(s_scaler_X_train, s_scaler_y_train)\n",
    "\n",
    "print(\"lgbm_clf 3차 : Best Parameters:\", grid_search.best_params_)\n",
    "print(\"lgbm_clf 3차 : Best Score:\", grid_search.best_score_)"
   ]
  },
  {
   "attachments": {},
   "cell_type": "markdown",
   "metadata": {},
   "source": [
    "# **8. Best Parameters 모델 훈련 및 예측 검증**"
   ]
  },
  {
   "attachments": {},
   "cell_type": "markdown",
   "metadata": {},
   "source": [
    "#### **(1) 로지스틱 회귀(LogisticRegression) 모델의 성능검증**"
   ]
  },
  {
   "cell_type": "code",
   "execution_count": 100,
   "metadata": {},
   "outputs": [
    {
     "name": "stdout",
     "output_type": "stream",
     "text": [
      "1. 로지스틱 회귀 모델 성능검증 (베스트 파라미터 적용 1차)\n",
      "<< LogisticRegression(max_iter=50, random_state=42, solver='saga') >>\n",
      "======================================================================================================================================================\n",
      "1. 예측 Accuracy(정확도) : 0.9655\n",
      "======================================================================================================================================================\n",
      "2. 예측 Precision(정밀도) : 0.6667\n",
      "======================================================================================================================================================\n",
      "3. 예측 Recall(재현율): 0.1569\n",
      "======================================================================================================================================================\n",
      "4. 예측 F1 Score : 0.2540\n",
      "======================================================================================================================================================\n",
      "5. 예측 ROC-AUC Score : 0.5769\n"
     ]
    }
   ],
   "source": [
    "# (1차) lr_clf 3차 : Best Parameters: {'max_iter': 50, 'solver': 'saga'}\n",
    "lr_clf = LogisticRegression(max_iter=50, solver='saga', random_state=42)\n",
    "\n",
    "print('1. 로지스틱 회귀 모델 성능검증 (베스트 파라미터 적용 1차)')\n",
    "cross_model_validation(lr_clf, s_scaler_X_train, s_scaler_y_train, s_scaler_X_test, s_scaler_y_test)"
   ]
  },
  {
   "cell_type": "code",
   "execution_count": 30,
   "metadata": {},
   "outputs": [
    {
     "name": "stdout",
     "output_type": "stream",
     "text": [
      "1. 로지스틱 회귀 모델 성능검증 (베스트 파라미터 적용 2차)\n",
      "<< LogisticRegression(C=0.07, penalty='l1', random_state=42, solver='saga') >>\n",
      "======================================================================================================================================================\n",
      "1. 예측 Accuracy(정확도) : 0.9648\n",
      "======================================================================================================================================================\n",
      "2. 예측 Precision(정밀도) : 0.6364\n",
      "======================================================================================================================================================\n",
      "3. 예측 Recall(재현율): 0.1373\n",
      "======================================================================================================================================================\n",
      "4. 예측 F1 Score : 0.2258\n",
      "======================================================================================================================================================\n",
      "5. 예측 ROC-AUC Score : 0.5671\n"
     ]
    }
   ],
   "source": [
    "# (2차) lr_clf 6차 : Best Parameters: {'C': 0.07, 'class_weight': None, 'max_iter': 100, 'penalty': 'l1', 'solver': 'saga'}\n",
    "lr_clf = LogisticRegression(C=0.07, class_weight=None, max_iter=100, penalty='l1', solver='saga', random_state=42)\n",
    "\n",
    "print('1. 로지스틱 회귀 모델 성능검증 (베스트 파라미터 적용 2차)')\n",
    "cross_model_validation(lr_clf, s_scaler_X_train, s_scaler_y_train, s_scaler_X_test, s_scaler_y_test)"
   ]
  },
  {
   "cell_type": "code",
   "execution_count": 35,
   "metadata": {},
   "outputs": [
    {
     "name": "stdout",
     "output_type": "stream",
     "text": [
      "1. 로지스틱 회귀 모델 성능검증 (베스트 파라미터 적용 3차)\n",
      "<< LogisticRegression(C=0.07, random_state=42, solver='saga') >>\n",
      "======================================================================================================================================================\n",
      "1. 예측 Accuracy(정확도) : 0.9677\n",
      "======================================================================================================================================================\n",
      "2. 예측 Precision(정밀도) : 0.7692\n",
      "======================================================================================================================================================\n",
      "3. 예측 Recall(재현율): 0.1961\n",
      "======================================================================================================================================================\n",
      "4. 예측 F1 Score : 0.3125\n",
      "======================================================================================================================================================\n",
      "5. 예측 ROC-AUC Score : 0.5969\n"
     ]
    }
   ],
   "source": [
    "# (3차) lr_clf 6차 : Best Parameters: {'C': 0.07, 'class_weight': None, 'max_iter': 100, 'penalty': 'l1', 'solver': 'saga'}\n",
    "lr_clf = LogisticRegression(C=0.07, max_iter=100, solver='saga', random_state=42)\n",
    "\n",
    "print('1. 로지스틱 회귀 모델 성능검증 (베스트 파라미터 적용 3차)')\n",
    "cross_model_validation(lr_clf, s_scaler_X_train, s_scaler_y_train, s_scaler_X_test, s_scaler_y_test)"
   ]
  },
  {
   "cell_type": "code",
   "execution_count": 38,
   "metadata": {},
   "outputs": [
    {
     "name": "stdout",
     "output_type": "stream",
     "text": [
      "1. 로지스틱 회귀 모델 성능검증 (베스트 파라미터 적용 4차)\n",
      "<< LogisticRegression(random_state=42, solver='saga') >>\n",
      "======================================================================================================================================================\n",
      "1. 예측 Accuracy(정확도) : 0.9685\n",
      "======================================================================================================================================================\n",
      "2. 예측 Precision(정밀도) : 0.7857\n",
      "======================================================================================================================================================\n",
      "3. 예측 Recall(재현율): 0.2157\n",
      "======================================================================================================================================================\n",
      "4. 예측 F1 Score : 0.3385\n",
      "======================================================================================================================================================\n",
      "5. 예측 ROC-AUC Score : 0.6067\n"
     ]
    }
   ],
   "source": [
    "# lr_clf = LogisticRegression(max_iter=100, solver='saga', random_state=42)\n",
    "\n",
    "# print('1. 로지스틱 회귀 모델 성능검증 (베스트 파라미터 적용 4차)')\n",
    "# cross_model_validation(lr_clf, s_scaler_X_train, s_scaler_y_train, s_scaler_X_test, s_scaler_y_test)"
   ]
  },
  {
   "cell_type": "code",
   "execution_count": 44,
   "metadata": {},
   "outputs": [
    {
     "name": "stdout",
     "output_type": "stream",
     "text": [
      "1. 로지스틱 회귀 모델 성능검증 (베스트 파라미터 적용 5차)\n",
      "<< LogisticRegression(max_iter=300, random_state=42, solver='saga') >>\n",
      "======================================================================================================================================================\n",
      "1. 예측 Accuracy(정확도) : 0.9692\n",
      "======================================================================================================================================================\n",
      "2. 예측 Precision(정밀도) : 0.7647\n",
      "======================================================================================================================================================\n",
      "3. 예측 Recall(재현율): 0.2549\n",
      "======================================================================================================================================================\n",
      "4. 예측 F1 Score : 0.3824\n",
      "======================================================================================================================================================\n",
      "5. 예측 ROC-AUC Score : 0.6259\n"
     ]
    }
   ],
   "source": [
    "lr_clf = LogisticRegression(max_iter=300, solver='saga', random_state=42)\n",
    "\n",
    "print('1. 로지스틱 회귀 모델 성능검증 (베스트 파라미터 적용 5차)')\n",
    "cross_model_validation(lr_clf, s_scaler_X_train, s_scaler_y_train, s_scaler_X_test, s_scaler_y_test)"
   ]
  },
  {
   "cell_type": "code",
   "execution_count": 49,
   "metadata": {},
   "outputs": [
    {
     "name": "stdout",
     "output_type": "stream",
     "text": [
      "1. 로지스틱 회귀 모델 성능검증 (베스트 파라미터 적용 6차)\n",
      "<< LogisticRegression(max_iter=270, random_state=42, solver='saga') >>\n",
      "======================================================================================================================================================\n",
      "1. 예측 Accuracy(정확도) : 0.9685\n",
      "======================================================================================================================================================\n",
      "2. 예측 Precision(정밀도) : 0.7222\n",
      "======================================================================================================================================================\n",
      "3. 예측 Recall(재현율): 0.2549\n",
      "======================================================================================================================================================\n",
      "4. 예측 F1 Score : 0.3768\n",
      "======================================================================================================================================================\n",
      "5. 예측 ROC-AUC Score : 0.6255\n"
     ]
    }
   ],
   "source": [
    "# lr_clf = LogisticRegression(max_iter=270, solver='saga', random_state=42)\n",
    "\n",
    "# print('1. 로지스틱 회귀 모델 성능검증 (베스트 파라미터 적용 6차)')\n",
    "# cross_model_validation(lr_clf, s_scaler_X_train, s_scaler_y_train, s_scaler_X_test, s_scaler_y_test)"
   ]
  },
  {
   "attachments": {},
   "cell_type": "markdown",
   "metadata": {},
   "source": [
    "- max_iter을 올릴 수록 재현율, AUC가 증가하였고 max_iter=300 이후로 증가하지 않았음.\n",
    "- C=0.07를 넣는다고 결과가 좋아지지 않았음."
   ]
  },
  {
   "attachments": {},
   "cell_type": "markdown",
   "metadata": {},
   "source": [
    "#### **(2) 랜덤포레스트(RandomForestClassifier) 모델의 성능검증**"
   ]
  },
  {
   "cell_type": "code",
   "execution_count": 101,
   "metadata": {},
   "outputs": [],
   "source": [
    "# (1차) rf_clf 5차 : Best Parameters: {'max_depth': 7, 'n_estimators': 150}\n",
    "rf_clf = RandomForestClassifier(n_estimators=150, max_depth=7, random_state=42) "
   ]
  },
  {
   "cell_type": "code",
   "execution_count": 104,
   "metadata": {},
   "outputs": [
    {
     "name": "stdout",
     "output_type": "stream",
     "text": [
      "2. 랜덤포레스트 모델 성능검증 (베스트 파라미터 적용 1차)\n",
      "<< RandomForestClassifier(max_depth=7, n_estimators=150, random_state=42) >>\n",
      "======================================================================================================================================================\n",
      "1. 예측 Accuracy(정확도) : 0.9670\n",
      "======================================================================================================================================================\n",
      "2. 예측 Precision(정밀도) : 1.0000\n",
      "======================================================================================================================================================\n",
      "3. 예측 Recall(재현율): 0.1176\n",
      "======================================================================================================================================================\n",
      "4. 예측 F1 Score : 0.2105\n",
      "======================================================================================================================================================\n",
      "5. 예측 ROC-AUC Score : 0.5588\n"
     ]
    }
   ],
   "source": [
    "print('2. 랜덤포레스트 모델 성능검증 (베스트 파라미터 적용 1차)')\n",
    "cross_model_validation(rf_clf, s_scaler_X_train, s_scaler_y_train, s_scaler_X_test, s_scaler_y_test)"
   ]
  },
  {
   "attachments": {},
   "cell_type": "markdown",
   "metadata": {},
   "source": [
    "#### **(3) XGBClassifier 모델의 성능검증**"
   ]
  },
  {
   "cell_type": "code",
   "execution_count": 105,
   "metadata": {},
   "outputs": [],
   "source": [
    "# (1차) xgb_clf 2차 : Best Parameters: {'learning_rate': 0.01, 'max_depth': 3, 'n_estimators': 200}\n",
    "xgb_clf = XGBClassifier(n_estimators=200, learning_rate=0.01, max_depth=3, random_state=42)"
   ]
  },
  {
   "cell_type": "code",
   "execution_count": 109,
   "metadata": {},
   "outputs": [
    {
     "name": "stdout",
     "output_type": "stream",
     "text": [
      "3. XGB 모델 성능검증 (베스트 파라미터 적용 1차)\n",
      "<< XGBClassifier(base_score=None, booster=None, callbacks=None,\n",
      "              colsample_bylevel=None, colsample_bynode=None,\n",
      "              colsample_bytree=None, early_stopping_rounds=None,\n",
      "              enable_categorical=False, eval_metric=None, feature_types=None,\n",
      "              gamma=None, gpu_id=None, grow_policy=None, importance_type=None,\n",
      "              interaction_constraints=None, learning_rate=0.01, max_bin=None,\n",
      "              max_cat_threshold=None, max_cat_to_onehot=None,\n",
      "              max_delta_step=None, max_depth=3, max_leaves=None,\n",
      "              min_child_weight=None, missing=nan, monotone_constraints=None,\n",
      "              n_estimators=200, n_jobs=None, num_parallel_tree=None,\n",
      "              predictor=None, random_state=42, ...) >>\n",
      "======================================================================================================================================================\n",
      "1. 예측 Accuracy(정확도) : 0.9670\n",
      "======================================================================================================================================================\n",
      "2. 예측 Precision(정밀도) : 0.8000\n",
      "======================================================================================================================================================\n",
      "3. 예측 Recall(재현율): 0.1569\n",
      "======================================================================================================================================================\n",
      "4. 예측 F1 Score : 0.2623\n",
      "======================================================================================================================================================\n",
      "5. 예측 ROC-AUC Score : 0.5777\n"
     ]
    }
   ],
   "source": [
    "print('3. XGB 모델 성능검증 (베스트 파라미터 적용 1차)')\n",
    "cross_model_validation(xgb_clf, s_scaler_X_train, s_scaler_y_train, s_scaler_X_test, s_scaler_y_test)"
   ]
  },
  {
   "attachments": {},
   "cell_type": "markdown",
   "metadata": {},
   "source": [
    "#### **(4) LGBMClassifier 모델의 성능검증**"
   ]
  },
  {
   "cell_type": "code",
   "execution_count": 107,
   "metadata": {},
   "outputs": [],
   "source": [
    "# lgbm_clf 3차 : Best Parameters: {'learning_rate': 0.1, 'max_depth': 6, 'n_estimators': 300, 'num_leaves': 31}\n",
    "lgbm_clf = LGBMClassifier(n_estimators=300, learning_rate=0.1, max_depth=6, num_leaves=31, random_state=42)"
   ]
  },
  {
   "cell_type": "code",
   "execution_count": 110,
   "metadata": {},
   "outputs": [
    {
     "name": "stdout",
     "output_type": "stream",
     "text": [
      "4. LGBM 모델 성능검증 (베스트 파라미터 적용 1차)\n",
      "<< LGBMClassifier(max_depth=6, n_estimators=300, random_state=42) >>\n",
      "======================================================================================================================================================\n",
      "1. 예측 Accuracy(정확도) : 0.9699\n",
      "======================================================================================================================================================\n",
      "2. 예측 Precision(정밀도) : 0.7500\n",
      "======================================================================================================================================================\n",
      "3. 예측 Recall(재현율): 0.2941\n",
      "======================================================================================================================================================\n",
      "4. 예측 F1 Score : 0.4225\n",
      "======================================================================================================================================================\n",
      "5. 예측 ROC-AUC Score : 0.6452\n"
     ]
    }
   ],
   "source": [
    "print('4. LGBM 모델 성능검증 (베스트 파라미터 적용 1차)')\n",
    "cross_model_validation(lgbm_clf, s_scaler_X_train, s_scaler_y_train, s_scaler_X_test, s_scaler_y_test)"
   ]
  },
  {
   "attachments": {},
   "cell_type": "markdown",
   "metadata": {},
   "source": [
    "# **9. 모델 성능 평가**"
   ]
  },
  {
   "cell_type": "code",
   "execution_count": 61,
   "metadata": {},
   "outputs": [
    {
     "name": "stdout",
     "output_type": "stream",
     "text": [
      "\n",
      "<< 1차 로지스틱 회귀(Logistic Regression) 결과 >>\n",
      "\n",
      "오차 행렬\n",
      "[[1309    4]\n",
      " [  38   13]]\n",
      "정확도: 0.9692, 정밀도: 0.7647, 재현율: 0.2549,    F1: 0.3824, AUC:0.9382\n"
     ]
    },
    {
     "data": {
      "image/png": "[encoded data removed]",
      "text/plain": [
       "<Figure size 640x480 with 2 Axes>"
      ]
     },
     "metadata": {},
     "output_type": "display_data"
    }
   ],
   "source": [
    "print('\\n<< 1차 로지스틱 회귀(Logistic Regression) 결과 >>\\n')\n",
    "lr_clf = LogisticRegression(max_iter=300, solver='saga', random_state=42)\n",
    "train_pred_eval(lr_clf, s_scaler_X_train, s_scaler_X_test, s_scaler_y_train, s_scaler_y_test)"
   ]
  },
  {
   "cell_type": "code",
   "execution_count": 60,
   "metadata": {},
   "outputs": [
    {
     "name": "stdout",
     "output_type": "stream",
     "text": [
      "\n",
      "<< 1차 랜덤포레스트(RandomForestClassifier) 결과 >>\n",
      "\n",
      "오차 행렬\n",
      "[[1313    0]\n",
      " [  45    6]]\n",
      "정확도: 0.9670, 정밀도: 1.0000, 재현율: 0.1176,    F1: 0.2105, AUC:0.9278\n"
     ]
    },
    {
     "data": {
      "image/png": "[encoded data removed]",
      "text/plain": [
       "<Figure size 640x480 with 2 Axes>"
      ]
     },
     "metadata": {},
     "output_type": "display_data"
    }
   ],
   "source": [
    "print('\\n<< 1차 랜덤포레스트(RandomForestClassifier) 결과 >>\\n')\n",
    "rf_clf = RandomForestClassifier(n_estimators=150, max_depth=7, random_state=42) \n",
    "train_pred_eval(rf_clf, s_scaler_X_train, s_scaler_X_test, s_scaler_y_train, s_scaler_y_test)"
   ]
  },
  {
   "cell_type": "code",
   "execution_count": 63,
   "metadata": {},
   "outputs": [
    {
     "name": "stdout",
     "output_type": "stream",
     "text": [
      "\n",
      "<< 1차 XGBoost 결과 >>\n",
      "\n",
      "오차 행렬\n",
      "[[1306    7]\n",
      " [  40   11]]\n",
      "정확도: 0.9655, 정밀도: 0.6111, 재현율: 0.2157,    F1: 0.3188, AUC:0.9238\n"
     ]
    },
    {
     "data": {
      "image/png": "[encoded data removed]",
      "text/plain": [
       "<Figure size 640x480 with 2 Axes>"
      ]
     },
     "metadata": {},
     "output_type": "display_data"
    }
   ],
   "source": [
    "print('\\n<< 1차 XGBoost 결과 >>\\n')\n",
    "xgb_clf = XGBClassifier(n_estimators=500, learning_rate=0.05, random_state=42)\n",
    "train_pred_eval(xgb_clf, s_scaler_X_train, s_scaler_X_test, s_scaler_y_train, s_scaler_y_test)"
   ]
  },
  {
   "cell_type": "code",
   "execution_count": 64,
   "metadata": {},
   "outputs": [
    {
     "name": "stdout",
     "output_type": "stream",
     "text": [
      "\n",
      "<< 1차 LightGBM 결과 >>\n",
      "\n",
      "오차 행렬\n",
      "[[1308    5]\n",
      " [  36   15]]\n",
      "정확도: 0.9699, 정밀도: 0.7500, 재현율: 0.2941,    F1: 0.4225, AUC:0.9440\n"
     ]
    },
    {
     "data": {
      "image/png": "[encoded data removed]",
      "text/plain": [
       "<Figure size 640x480 with 2 Axes>"
      ]
     },
     "metadata": {},
     "output_type": "display_data"
    }
   ],
   "source": [
    "print('\\n<< 1차 LightGBM 결과 >>\\n')\n",
    "lgbm_clf = LGBMClassifier(learning_rate=0.1, n_estimators=300, max_depth=6, num_leaves=31, random_state=42)\n",
    "train_pred_eval(lgbm_clf, s_scaler_X_train, s_scaler_X_test, s_scaler_y_train, s_scaler_y_test)"
   ]
  },
  {
   "attachments": {},
   "cell_type": "markdown",
   "metadata": {},
   "source": [
    "- 모든 모델은 동일하게 재현율 < AUC가 높다.\n",
    "- 양성 클래스(파산 기업)에 대한 예측 정확도가 낮고, 음성 클래스(비파산 기업)에 대한 예측 정확도가 높은 상황을 의미\n",
    "- 재현율이 낮다는 것은 실제 파산 기업 중에서 많은 부분을 놓치고 있다는 의미\n",
    "- AUC가 높은 경우 --> 양성 클래스에 대한 예측 확률이 음성 클래스에 대한 예측 확률보다 높은 경향\n",
    "- 따라서, 재현율이 낮더라도 AUC가 높은 경우에는 모델이 양성 클래스에 대한 예측 정확도는 낮을 수 있지만, 양성과 음성을 구분하는 능력은 높은 것을 의미"
   ]
  },
  {
   "attachments": {},
   "cell_type": "markdown",
   "metadata": {},
   "source": [
    "- 기업 파산 예측 모델에서는 재현율이 중요한 지표 (실제 파산하는 기업을 놓치지 않고 정확하게 예측)\n",
    "- 모델의 성능을 높이기 위해 재현율을 향상시킬 수 있는 방법 고려\n",
    "- ex) 데이터 불균형 문제를 해결하기 위해 오버샘플링 적용"
   ]
  }
 ],
 "metadata": {
  "kernelspec": {
   "display_name": "mlearning",
   "language": "python",
   "name": "python3"
  },
  "language_info": {
   "codemirror_mode": {
    "name": "ipython",
    "version": 3
   },
   "file_extension": ".py",
   "mimetype": "text/x-python",
   "name": "python",
   "nbconvert_exporter": "python",
   "pygments_lexer": "ipython3",
   "version": "3.8.16"
  },
  "orig_nbformat": 4
 },
 "nbformat": 4,
 "nbformat_minor": 2
}
